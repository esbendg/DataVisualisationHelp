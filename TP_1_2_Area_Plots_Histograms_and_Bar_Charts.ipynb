{
  "cells": [
    {
      "cell_type": "markdown",
      "metadata": {
        "id": "view-in-github",
        "colab_type": "text"
      },
      "source": [
        "<a href=\"https://colab.research.google.com/github/esbendg/DataVisualisationTP/blob/main/TP_1_2_Area_Plots_Histograms_and_Bar_Charts.ipynb\" target=\"_parent\"><img src=\"https://colab.research.google.com/assets/colab-badge.svg\" alt=\"Open In Colab\"/></a>"
      ]
    },
    {
      "cell_type": "markdown",
      "metadata": {
        "button": false,
        "new_sheet": false,
        "run_control": {
          "read_only": false
        },
        "id": "9bnL6mwmORoC"
      },
      "source": [
        "   \n",
        "\n",
        "## Objectives\n",
        "\n",
        "After completing this lab you will be able to:\n",
        "\n",
        "* Create additional labs namely area plots, histogram and bar charts\n"
      ]
    },
    {
      "cell_type": "markdown",
      "metadata": {
        "button": false,
        "new_sheet": false,
        "run_control": {
          "read_only": false
        },
        "id": "n18WpaXRORoE"
      },
      "source": [
        "## Table of Contents\n",
        "\n",
        "<div class=\"alert alert-block alert-info\" style=\"margin-top: 20px\">\n",
        "\n",
        "1. [Exploring Datasets with *pandas*](#0)<br>\n",
        "2. [Downloading and Prepping Data](#2)<br>\n",
        "3. [Visualizing Data using Matplotlib](#4) <br>\n",
        "4. [Area Plots](#6) <br>\n",
        "5. [Histograms](#8) <br>\n",
        "6. [Bar Charts](#10) <br>\n",
        "</div>\n"
      ]
    },
    {
      "cell_type": "markdown",
      "metadata": {
        "button": false,
        "new_sheet": false,
        "run_control": {
          "read_only": false
        },
        "id": "M0E7T_ntORoE"
      },
      "source": [
        "# Downloading and Prepping Data <a id=\"2\"></a>\n"
      ]
    },
    {
      "cell_type": "markdown",
      "metadata": {
        "id": "ij5NUF9vORoE"
      },
      "source": [
        "The first thing we'll do is install **openpyxl** (formerly **xlrd**), a module that *pandas* requires to read Excel files.\n"
      ]
    },
    {
      "cell_type": "code",
      "execution_count": null,
      "metadata": {
        "id": "R41SXSyTORoF"
      },
      "outputs": [],
      "source": [
        "!mamba install openpyxl==3.0.9 -qy"
      ]
    },
    {
      "cell_type": "markdown",
      "metadata": {
        "button": false,
        "new_sheet": false,
        "run_control": {
          "read_only": false
        },
        "id": "OBbzktpGORoF"
      },
      "source": [
        "Import Primary Modules. The first thing we'll do is import two key data analysis modules: `pandas` and `numpy`.\n"
      ]
    },
    {
      "cell_type": "code",
      "execution_count": null,
      "metadata": {
        "button": false,
        "new_sheet": false,
        "run_control": {
          "read_only": false
        },
        "id": "LDrprLmBORoF"
      },
      "outputs": [],
      "source": [
        "import numpy as np  # useful for many scientific computing in Python\n",
        "import pandas as pd # primary data structure library"
      ]
    },
    {
      "cell_type": "markdown",
      "metadata": {
        "button": false,
        "new_sheet": false,
        "run_control": {
          "read_only": false
        },
        "id": "Cq_fG7UQORoF"
      },
      "source": [
        "Download the Canadian Immigration dataset and read it into a *pandas* dataframe.\n"
      ]
    },
    {
      "cell_type": "code",
      "execution_count": null,
      "metadata": {
        "button": false,
        "new_sheet": false,
        "run_control": {
          "read_only": false
        },
        "id": "Ea2qGm5FORoG"
      },
      "outputs": [],
      "source": [
        "df_can = pd.read_excel(\n",
        "    'https://cf-courses-data.s3.us.cloud-object-storage.appdomain.cloud/IBMDeveloperSkillsNetwork-DV0101EN-SkillsNetwork/Data%20Files/Canada.xlsx',\n",
        "    sheet_name='Canada by Citizenship',\n",
        "    skiprows=range(20),\n",
        "    skipfooter=2)\n",
        "print('Data downloaded and read into a dataframe!')"
      ]
    },
    {
      "cell_type": "markdown",
      "metadata": {
        "button": false,
        "new_sheet": false,
        "run_control": {
          "read_only": false
        },
        "id": "LUdVnH5XORoG"
      },
      "source": [
        "Let's take a look at the first five items in our dataset.\n"
      ]
    },
    {
      "cell_type": "code",
      "execution_count": null,
      "metadata": {
        "button": false,
        "new_sheet": false,
        "run_control": {
          "read_only": false
        },
        "id": "AhJBJ880ORoG"
      },
      "outputs": [],
      "source": [
        "df_can.head()"
      ]
    },
    {
      "cell_type": "markdown",
      "metadata": {
        "button": false,
        "new_sheet": false,
        "run_control": {
          "read_only": false
        },
        "id": "hwss9RARORoG"
      },
      "source": [
        "Let's find out how many entries there are in our dataset.\n"
      ]
    },
    {
      "cell_type": "code",
      "execution_count": null,
      "metadata": {
        "button": false,
        "new_sheet": false,
        "run_control": {
          "read_only": false
        },
        "scrolled": true,
        "id": "2nNc3rJuORoG"
      },
      "outputs": [],
      "source": [
        "# print the dimensions of the dataframe\n",
        "print(df_can.shape)"
      ]
    },
    {
      "cell_type": "markdown",
      "metadata": {
        "button": false,
        "new_sheet": false,
        "run_control": {
          "read_only": false
        },
        "id": "YdVhXoPuORoG"
      },
      "source": [
        "Clean up data. We will make some modifications to the original dataset to make it easier to create our visualizations. Refer to `Introduction to Matplotlib and Line Plots` lab for the rational and detailed description of the changes.\n"
      ]
    },
    {
      "cell_type": "markdown",
      "metadata": {
        "button": false,
        "new_sheet": false,
        "run_control": {
          "read_only": false
        },
        "id": "swsq2HeYORoG"
      },
      "source": [
        "#### 1. Clean up the dataset to remove columns that are not informative to us for visualization (eg. Type, AREA, REG).\n"
      ]
    },
    {
      "cell_type": "code",
      "execution_count": null,
      "metadata": {
        "button": false,
        "new_sheet": false,
        "run_control": {
          "read_only": false
        },
        "id": "KfweJ0icORoG"
      },
      "outputs": [],
      "source": [
        "df_can.drop(['AREA', 'REG', 'DEV', 'Type', 'Coverage'], axis=1, inplace=True)\n",
        "\n",
        "# let's view the first five elements and see how the dataframe was changed\n",
        "df_can.head()"
      ]
    },
    {
      "cell_type": "markdown",
      "metadata": {
        "button": false,
        "new_sheet": false,
        "run_control": {
          "read_only": false
        },
        "id": "z_NcAyKRORoG"
      },
      "source": [
        "Notice how the columns Type, Coverage, AREA, REG, and DEV got removed from the dataframe.\n"
      ]
    },
    {
      "cell_type": "markdown",
      "metadata": {
        "button": false,
        "new_sheet": false,
        "run_control": {
          "read_only": false
        },
        "id": "KcCwQze_ORoH"
      },
      "source": [
        "#### 2. Rename some of the columns so that they make sense.\n"
      ]
    },
    {
      "cell_type": "code",
      "execution_count": null,
      "metadata": {
        "button": false,
        "new_sheet": false,
        "run_control": {
          "read_only": false
        },
        "id": "ACZycVEOORoH"
      },
      "outputs": [],
      "source": [
        "df_can.rename(columns={'OdName':'Country', 'AreaName':'Continent','RegName':'Region'}, inplace=True)\n",
        "\n",
        "# let's view the first five elements and see how the dataframe was changed\n",
        "df_can.head()"
      ]
    },
    {
      "cell_type": "markdown",
      "metadata": {
        "button": false,
        "new_sheet": false,
        "run_control": {
          "read_only": false
        },
        "id": "hzCdvKsaORoH"
      },
      "source": [
        "Notice how the column names now make much more sense, even to an outsider.\n"
      ]
    },
    {
      "cell_type": "markdown",
      "metadata": {
        "button": false,
        "new_sheet": false,
        "run_control": {
          "read_only": false
        },
        "id": "KkpjXMILORoH"
      },
      "source": [
        "#### 3. For consistency, ensure that all column labels of type string.\n"
      ]
    },
    {
      "cell_type": "code",
      "execution_count": null,
      "metadata": {
        "button": false,
        "new_sheet": false,
        "run_control": {
          "read_only": false
        },
        "scrolled": true,
        "id": "PBKZ4GxaORoH"
      },
      "outputs": [],
      "source": [
        "# let's examine the types of the column labels\n",
        "all(isinstance(column, str) for column in df_can.columns)"
      ]
    },
    {
      "cell_type": "markdown",
      "metadata": {
        "button": false,
        "new_sheet": false,
        "run_control": {
          "read_only": false
        },
        "id": "WWDeG1IUORoH"
      },
      "source": [
        "Notice how the above line of code returned *False* when we tested if all the column labels are of type **string**. So let's change them all to **string** type.\n"
      ]
    },
    {
      "cell_type": "code",
      "execution_count": null,
      "metadata": {
        "button": false,
        "new_sheet": false,
        "run_control": {
          "read_only": false
        },
        "id": "1ow7xQBLORoH"
      },
      "outputs": [],
      "source": [
        "df_can.columns = list(map(str, df_can.columns))\n",
        "\n",
        "# let's check the column labels types now\n",
        "all(isinstance(column, str) for column in df_can.columns)"
      ]
    },
    {
      "cell_type": "markdown",
      "metadata": {
        "button": false,
        "new_sheet": false,
        "run_control": {
          "read_only": false
        },
        "id": "FA9b4yFhORoH"
      },
      "source": [
        "#### 4. Set the country name as index - useful for quickly looking up countries using .loc method.\n"
      ]
    },
    {
      "cell_type": "code",
      "execution_count": null,
      "metadata": {
        "button": false,
        "new_sheet": false,
        "run_control": {
          "read_only": false
        },
        "id": "_pmzqRG8ORoH"
      },
      "outputs": [],
      "source": [
        "df_can.set_index('Country', inplace=True)\n",
        "\n",
        "# Let's view the first five elements and see how the dataframe was changed\n",
        "df_can.head()"
      ]
    },
    {
      "cell_type": "markdown",
      "metadata": {
        "button": false,
        "new_sheet": false,
        "run_control": {
          "read_only": false
        },
        "id": "idi3Uc6qORoH"
      },
      "source": [
        "Notice now the country names now serve as indices.\n"
      ]
    },
    {
      "cell_type": "markdown",
      "metadata": {
        "button": false,
        "new_sheet": false,
        "run_control": {
          "read_only": false
        },
        "id": "-k2ovndXORoI"
      },
      "source": [
        "#### 5. Add total column.\n"
      ]
    },
    {
      "cell_type": "code",
      "execution_count": null,
      "metadata": {
        "button": false,
        "new_sheet": false,
        "run_control": {
          "read_only": false
        },
        "id": "sMnuqvPPORoI"
      },
      "outputs": [],
      "source": [
        "# Convert columns to numeric type, coercing errors to NaN\n",
        "for column in df_can.columns[1:]:  # Skip the first column (Country Index)\n",
        "    try:\n",
        "        df_can[column] = pd.to_numeric(df_can[column], errors='coerce')\n",
        "    except ValueError:\n",
        "        print(f\"Could not convert column '{column}' to numeric.\")\n",
        "\n",
        "# Now calculate the sum across rows (axis=1), skipping non-numeric columns:\n",
        "df_can['Total'] = df_can.select_dtypes(include=np.number).sum(axis=1)\n",
        "\n",
        "# Display the first few rows to verify\n",
        "df_can.head()"
      ]
    },
    {
      "cell_type": "markdown",
      "metadata": {
        "button": false,
        "new_sheet": false,
        "run_control": {
          "read_only": false
        },
        "id": "PwHHMGMKORoI"
      },
      "source": [
        "Now the dataframe has an extra column that presents the total number of immigrants from each country in the dataset from 1980 - 2013. So if we print the dimension of the data, we get:\n"
      ]
    },
    {
      "cell_type": "code",
      "execution_count": null,
      "metadata": {
        "button": false,
        "new_sheet": false,
        "run_control": {
          "read_only": false
        },
        "scrolled": true,
        "id": "Gbi8jld5ORoI"
      },
      "outputs": [],
      "source": [
        "print('data dimensions:', df_can.shape)"
      ]
    },
    {
      "cell_type": "markdown",
      "metadata": {
        "button": false,
        "new_sheet": false,
        "run_control": {
          "read_only": false
        },
        "id": "AMjXhSQXORoI"
      },
      "source": [
        "So now our dataframe has 38 columns instead of 37 columns that we had before.\n"
      ]
    },
    {
      "cell_type": "code",
      "execution_count": null,
      "metadata": {
        "button": false,
        "new_sheet": false,
        "run_control": {
          "read_only": false
        },
        "id": "T_Yi5LfFORoI"
      },
      "outputs": [],
      "source": [
        "# finally, let's create a list of years from 1980 - 2013\n",
        "# this will come in handy when we start plotting the data\n",
        "years = list(map(str, range(1980, 2014)))\n",
        "\n",
        "#years"
      ]
    },
    {
      "cell_type": "markdown",
      "metadata": {
        "button": false,
        "new_sheet": false,
        "run_control": {
          "read_only": false
        },
        "id": "ohdQ3aXoORoI"
      },
      "source": [
        "# Visualizing Data using Matplotlib<a id=\"4\"></a>\n"
      ]
    },
    {
      "cell_type": "markdown",
      "metadata": {
        "button": false,
        "new_sheet": false,
        "run_control": {
          "read_only": false
        },
        "id": "RX9GRTA5ORoJ"
      },
      "source": [
        "Import the `matplotlib` library.\n"
      ]
    },
    {
      "cell_type": "code",
      "execution_count": null,
      "metadata": {
        "button": false,
        "new_sheet": false,
        "run_control": {
          "read_only": false
        },
        "id": "mAxnOsyIORoJ"
      },
      "outputs": [],
      "source": [
        "# use the inline backend to generate the plots within the browser\n",
        "%matplotlib inline\n",
        "\n",
        "import matplotlib as mpl\n",
        "import matplotlib.pyplot as plt\n",
        "\n",
        "mpl.style.use('ggplot')  # optional: for ggplot-like style\n",
        "\n",
        "# check for latest version of Matplotlib\n",
        "print('Matplotlib version: ', mpl.__version__) # >= 2.0.0"
      ]
    },
    {
      "cell_type": "markdown",
      "metadata": {
        "button": false,
        "new_sheet": false,
        "run_control": {
          "read_only": false
        },
        "id": "vpU750sBORoJ"
      },
      "source": [
        "# Area Plots<a id=\"6\"></a>\n"
      ]
    },
    {
      "cell_type": "markdown",
      "metadata": {
        "button": false,
        "new_sheet": false,
        "run_control": {
          "read_only": false
        },
        "id": "lXyEawhFORoJ"
      },
      "source": [
        "In the last module, we created a line plot that visualized the top 5 countries that contribued the most immigrants to Canada from 1980 to 2013. With a little modification to the code, we can visualize this plot as a cumulative plot, also knows as a **Stacked Line Plot** or **Area plot**.\n"
      ]
    },
    {
      "cell_type": "code",
      "execution_count": null,
      "metadata": {
        "button": false,
        "new_sheet": false,
        "run_control": {
          "read_only": false
        },
        "id": "o22ZazDDORoM"
      },
      "outputs": [],
      "source": [
        "df_can.sort_values(['Total'], ascending=False, axis=0, inplace=True)\n",
        "\n",
        "# get the top 5 entries\n",
        "df_top5 = df_can.head(5)\n",
        "df_bot5 = df_can.tail(5)\n",
        "\n",
        "# transpose the dataframe\n",
        "df_top5 = df_top5[years].transpose()\n",
        "df_bot5 = df_bot5[years].transpose()\n",
        "\n",
        "#df_top5.head()\n",
        "df_bot5.head()"
      ]
    },
    {
      "cell_type": "markdown",
      "metadata": {
        "button": false,
        "new_sheet": false,
        "run_control": {
          "read_only": false
        },
        "id": "1sv1pksTORoM"
      },
      "source": [
        "Area plots are stacked by default. And to produce a stacked area plot, each column must be either all positive or all negative values (any `NaN`, i.e. not a number, values will default to 0). To produce an unstacked plot, set parameter `stacked` to value `False`.\n"
      ]
    },
    {
      "cell_type": "code",
      "execution_count": null,
      "metadata": {
        "button": false,
        "new_sheet": false,
        "run_control": {
          "read_only": false
        },
        "id": "tf5XTwLeORoM"
      },
      "outputs": [],
      "source": [
        "# let's change the index values of df_top5 to type integer for plotting\n",
        "df_top5.index = df_top5.index.map(int)\n",
        "df_top5.plot(kind='area',\n",
        "             stacked=False,\n",
        "             figsize=(20, 10))  # pass a tuple (x, y) size\n",
        "\n",
        "plt.title('Immigration Trend of Top 5 Countries')\n",
        "plt.ylabel('Number of Immigrants')\n",
        "plt.xlabel('Years')\n",
        "\n",
        "plt.show()"
      ]
    },
    {
      "cell_type": "markdown",
      "metadata": {
        "button": false,
        "new_sheet": false,
        "run_control": {
          "read_only": false
        },
        "id": "PVIckQodORoM"
      },
      "source": [
        "The unstacked plot has a default transparency (alpha value) at 0.5. We can modify this value by passing in the `alpha` parameter.\n"
      ]
    },
    {
      "cell_type": "code",
      "execution_count": null,
      "metadata": {
        "button": false,
        "new_sheet": false,
        "run_control": {
          "read_only": false
        },
        "id": "-VC6BQvVORoN"
      },
      "outputs": [],
      "source": [
        "df_top5.plot(kind='area',\n",
        "             alpha=0.25,  # 0 - 1, default value alpha = 0.5\n",
        "             stacked=False,\n",
        "             figsize=(20, 10))\n",
        "\n",
        "plt.title('Immigration Trend of Top 5 Countries')\n",
        "plt.ylabel('Number of Immigrants')\n",
        "plt.xlabel('Years')\n",
        "\n",
        "plt.show()"
      ]
    },
    {
      "cell_type": "markdown",
      "metadata": {
        "button": false,
        "new_sheet": false,
        "run_control": {
          "read_only": false
        },
        "id": "_s4uPMcuORoN"
      },
      "source": [
        "### Two types of plotting\n",
        "\n",
        "There are two styles/options of plotting with `matplotlib`， plotting using the Artist layer and plotting using the scripting layer.\n",
        "\n",
        "**Option 1: Scripting layer (procedural method) - using matplotlib.pyplot as 'plt' **\n",
        "\n",
        "You can use `plt` i.e. `matplotlib.pyplot` and add more elements by calling different methods procedurally; for example, `plt.title(...)` to add title or `plt.xlabel(...)` to add label to the x-axis.\n",
        "```python\n",
        "    # Option 1: This is what we have been using so far\n",
        "    df_top5.plot(kind='area', alpha=0.35, figsize=(20, 10))\n",
        "    plt.title('Immigration trend of top 5 countries')\n",
        "    plt.ylabel('Number of immigrants')\n",
        "    plt.xlabel('Years')\n",
        "```\n"
      ]
    },
    {
      "cell_type": "markdown",
      "metadata": {
        "button": false,
        "new_sheet": false,
        "run_control": {
          "read_only": false
        },
        "id": "bUbe-gVmORoN"
      },
      "source": [
        "**Option 2: Artist layer (Object oriented method) - using an `Axes` instance from Matplotlib (preferred) **\n",
        "\n",
        "You can use an `Axes` instance of your current plot and store it in a variable (eg. `ax`). You can add more elements by calling methods with a little change in syntax (by adding \"`set_`\" to the previous methods). For example, use `ax.set_title()` instead of `plt.title()` to add title,  or `ax.set_xlabel()` instead of `plt.xlabel()` to add label to the x-axis.\n",
        "\n",
        "This option sometimes is more transparent and flexible to use for advanced plots (in particular when having multiple plots, as you will see later).\n",
        "\n",
        "In this course, we will stick to the **scripting layer**, except for some advanced visualizations where we will need to use the **artist layer** to manipulate advanced aspects of the plots.\n"
      ]
    },
    {
      "cell_type": "code",
      "execution_count": null,
      "metadata": {
        "button": false,
        "new_sheet": false,
        "run_control": {
          "read_only": false
        },
        "id": "zWZyQENMORoN"
      },
      "outputs": [],
      "source": [
        "#kind : str\n",
        "\n",
        "#‘line’ : line plot (default)\n",
        "#‘bar’ : vertical bar plot\n",
        "#‘barh’ : horizontal bar plot\n",
        "#‘hist’ : histogram\n",
        "#‘box’ : boxplot\n",
        "#‘kde’ : Kernel Density Estimation plot\n",
        "#‘density’ : same as ‘kde’\n",
        "#‘area’ : area plot\n",
        "#‘pie’ : pie plot\n",
        "#‘scatter’ : scatter plot\n",
        "#‘hexbin’ : hexbin plot\n",
        "\n",
        "# option 2: preferred option with more flexibility\n",
        "ax = df_top5.plot(kind='area', alpha=0.35, figsize=(20, 10))\n",
        "\n",
        "ax.set_title('Immigration Trend of Top 5 Countries')\n",
        "ax.set_ylabel('Number of Immigrants')\n",
        "ax.set_xlabel('Years')"
      ]
    },
    {
      "cell_type": "markdown",
      "metadata": {
        "button": false,
        "new_sheet": false,
        "run_control": {
          "read_only": false
        },
        "id": "MVSwbCJ4ORoN"
      },
      "source": [
        "**Question**: Use the scripting layer to create a stacked area plot of the 5 countries that contributed the least to immigration to Canada **from** 1980 to 2013. Use a transparency value of 0.45.\n"
      ]
    },
    {
      "cell_type": "code",
      "execution_count": null,
      "metadata": {
        "button": false,
        "new_sheet": false,
        "run_control": {
          "read_only": false
        },
        "id": "HUOjnCAuORoN"
      },
      "outputs": [],
      "source": [
        "### type your answer here\n",
        "df_bot5 = df_can.tail(5)\n",
        "\n",
        "df_bot5 = df_bot5[years].transpose()\n",
        "\n",
        "df_bot5.index = df_bot5.index.map(int)\n",
        "df_bot5.head()\n",
        "df_bot5.plot (kind='area',alpha=(0.45), figsize=(20,10))\n",
        "\n",
        "plt.title ('Immigration Trends of bottom 5 countries')\n",
        "plt.xlabel('years')\n",
        "plt.ylabel('Number of immigrants')\n",
        "\n",
        "plt.show"
      ]
    },
    {
      "cell_type": "markdown",
      "metadata": {
        "button": false,
        "new_sheet": false,
        "run_control": {
          "read_only": false
        },
        "id": "5jsqojPtORoN"
      },
      "source": [
        "<details><summary>Click here for a sample python solution</summary>\n",
        "\n",
        "```python\n",
        "    #The correct answer is:\n",
        "    # get the 5 countries with the least contribution\n",
        "    df_least5 = df_can.tail(5)\n",
        "     \n",
        "    # transpose the dataframe\n",
        "    df_least5 = df_least5[years].transpose()\n",
        "    df_least5.head()\n",
        "\n",
        "    df_least5.index = df_least5.index.map(int) # let's change the index values of df_least5 to type integer for plotting\n",
        "    df_least5.plot(kind='area', alpha=0.45, figsize=(20, 10))\n",
        "\n",
        "    plt.title('Immigration Trend of 5 Countries with Least Contribution to Immigration')\n",
        "    plt.ylabel('Number of Immigrants')\n",
        "    plt.xlabel('Years')\n",
        "\n",
        "    plt.show()\n",
        "```\n",
        "\n",
        "\n",
        "</details>\n"
      ]
    },
    {
      "cell_type": "markdown",
      "metadata": {
        "button": false,
        "new_sheet": false,
        "run_control": {
          "read_only": false
        },
        "id": "0GkCLzuhORoO"
      },
      "source": [
        "**Question**: Use the artist layer to create an unstacked area plot of the 5 countries that contributed the least to immigration to Canada **from** 1980 to 2013. Use a transparency value of 0.55.\n"
      ]
    },
    {
      "cell_type": "code",
      "execution_count": null,
      "metadata": {
        "button": false,
        "new_sheet": false,
        "run_control": {
          "read_only": false
        },
        "id": "H5SkJ3JvORoO"
      },
      "outputs": [],
      "source": [
        "### type your answer here\n",
        "\n",
        "df_bot5 = df_can.tail(5)\n",
        "df_bot5 = df_bot5[years].transpose()\n",
        "df_bot5.index = df_bot5.index.map(int)\n",
        "\n",
        "# let's change the index values of df_bot5 to type integer for plotting\n",
        "ax = df_bot5.plot(kind='area', alpha=0.55, stacked=False, figsize=(20,10))\n",
        "\n",
        "ax.set_title('Immigration Trend of Bottom 5 Countries')\n",
        "ax.set_ylabel('Number of immigrants')\n",
        "ax.set_xlabel('Years')\n",
        "\n",
        "\n"
      ]
    },
    {
      "cell_type": "markdown",
      "metadata": {
        "button": false,
        "new_sheet": false,
        "run_control": {
          "read_only": false
        },
        "id": "awgz5StMORoO"
      },
      "source": [
        "<details><summary>Click here for a sample python solution</summary>\n",
        "\n",
        "```python\n",
        "    #The correct answer is:\n",
        "    \n",
        "    # get the 5 countries with the least contribution\n",
        "    df_least5 = df_can.tail(5)\n",
        "\n",
        "    # transpose the dataframe\n",
        "    df_least5 = df_least5[years].transpose()\n",
        "    \n",
        "    df_least5.head()\n",
        "\n",
        "    df_least5.index = df_least5.index.map(int) # let's change the index values of df_least5 to type integer for plotting\n",
        "    \n",
        "    ax = df_least5.plot(kind='area', alpha=0.55, stacked=False, figsize=(20, 10))\n",
        "    \n",
        "    ax.set_title('Immigration Trend of 5 Countries with Least Contribution to Immigration')\n",
        "    ax.set_ylabel('Number of Immigrants')\n",
        "    ax.set_xlabel('Years')\n",
        "\n",
        "    \n",
        "```\n",
        "\n",
        "\n",
        "</details>\n"
      ]
    },
    {
      "cell_type": "markdown",
      "metadata": {
        "button": false,
        "new_sheet": false,
        "run_control": {
          "read_only": false
        },
        "id": "5h30haSCORoO"
      },
      "source": [
        "# Histograms<a id=\"8\"></a>\n",
        "\n",
        "A histogram is a way of representing the *frequency* distribution of numeric dataset. The way it works is it partitions the x-axis into *bins*, assigns each data point in our dataset to a bin, and then counts the number of data points that have been assigned to each bin. So the y-axis is the frequency or the number of data points in each bin. Note that we can change the bin size and usually one needs to tweak it so that the distribution is displayed nicely.\n"
      ]
    },
    {
      "cell_type": "markdown",
      "metadata": {
        "button": false,
        "new_sheet": false,
        "run_control": {
          "read_only": false
        },
        "id": "rSh5AYM7ORoO"
      },
      "source": [
        "**Question:** What is the frequency distribution of the number (population) of new immigrants from the various countries to Canada in 2013?\n"
      ]
    },
    {
      "cell_type": "markdown",
      "metadata": {
        "button": false,
        "new_sheet": false,
        "run_control": {
          "read_only": false
        },
        "id": "gx96gPO0ORoO"
      },
      "source": [
        "Before we proceed with creating the histogram plot, let's first examine the data split into intervals. To do this, we will us **Numpy**'s `histrogram` method to get the bin ranges and frequency counts as follows:\n"
      ]
    },
    {
      "cell_type": "code",
      "execution_count": null,
      "metadata": {
        "button": false,
        "new_sheet": false,
        "run_control": {
          "read_only": false
        },
        "id": "lc9jnQ4ZORoO"
      },
      "outputs": [],
      "source": [
        "# let's quickly view the 2013 data\n",
        "df_can['2013'].head()"
      ]
    },
    {
      "cell_type": "code",
      "execution_count": null,
      "metadata": {
        "button": false,
        "new_sheet": false,
        "run_control": {
          "read_only": false
        },
        "id": "Sd5oOr_XORoP"
      },
      "outputs": [],
      "source": [
        "# np.histogram returns 2 values\n",
        "count, bin_edges = np.histogram(df_can['2013'])\n",
        "\n",
        "print(count) # frequency count\n",
        "print(bin_edges) # bin ranges, default = 10 bins"
      ]
    },
    {
      "cell_type": "markdown",
      "metadata": {
        "button": false,
        "new_sheet": false,
        "run_control": {
          "read_only": false
        },
        "id": "c8YdBYxEORoP"
      },
      "source": [
        "By default, the `histrogram` method breaks up the dataset into 10 bins. The figure below summarizes the bin ranges and the frequency distribution of immigration in 2013. We can see that in 2013:\n",
        "* 178 countries contributed between 0 to 3412.9 immigrants\n",
        "* 11 countries contributed between 3412.9 to 6825.8 immigrants\n",
        "* 1 country contributed between 6285.8 to 10238.7 immigrants, and so on..\n",
        "\n",
        "<img src=\"https://cf-courses-data.s3.us.cloud-object-storage.appdomain.cloud/IBMDeveloperSkillsNetwork-DV0101EN-SkillsNetwork/labs/Module%202/images/Mod2Fig1-Histogram.jpg\" align=\"center\" width=\"800\">\n"
      ]
    },
    {
      "cell_type": "markdown",
      "metadata": {
        "button": false,
        "new_sheet": false,
        "run_control": {
          "read_only": false
        },
        "id": "52H84nNpORoP"
      },
      "source": [
        "We can easily graph this distribution by passing `kind=hist` to `plot()`.\n"
      ]
    },
    {
      "cell_type": "code",
      "execution_count": null,
      "metadata": {
        "button": false,
        "new_sheet": false,
        "run_control": {
          "read_only": false
        },
        "id": "aS-Feq8KORoP"
      },
      "outputs": [],
      "source": [
        "df_can['2013'].plot(kind='hist', figsize=(8, 5))\n",
        "\n",
        "# add a title to the histogram\n",
        "plt.title('Histogram of Immigration from 195 Countries in 2013')\n",
        "# add y-label\n",
        "plt.ylabel('Number of Countries')\n",
        "# add x-label\n",
        "plt.xlabel('Number of Immigrants')\n",
        "\n",
        "plt.show()"
      ]
    },
    {
      "cell_type": "markdown",
      "metadata": {
        "button": false,
        "new_sheet": false,
        "run_control": {
          "read_only": false
        },
        "id": "hZjrwJHTORoP"
      },
      "source": [
        "In the above plot, the x-axis represents the population range of immigrants in intervals of 3412.9. The y-axis represents the number of countries that contributed to the aforementioned population.\n",
        "\n",
        "Notice that the x-axis labels do not match with the bin size. This can be fixed by passing in a `xticks` keyword that contains the list of the bin sizes, as follows:\n"
      ]
    },
    {
      "cell_type": "code",
      "execution_count": null,
      "metadata": {
        "button": false,
        "new_sheet": false,
        "run_control": {
          "read_only": false
        },
        "id": "KToWwV11ORoP"
      },
      "outputs": [],
      "source": [
        "# 'bin_edges' is a list of bin intervals\n",
        "count, bin_edges = np.histogram(df_can['2013'])\n",
        "\n",
        "df_can['2013'].plot(kind='hist', figsize=(8, 5), xticks=bin_edges)\n",
        "\n",
        "plt.title('Histogram of Immigration from 195 countries in 2013') # add a title to the histogram\n",
        "plt.ylabel('Number of Countries') # add y-label\n",
        "plt.xlabel('Number of Immigrants') # add x-label\n",
        "\n",
        "plt.show()"
      ]
    },
    {
      "cell_type": "markdown",
      "metadata": {
        "button": false,
        "new_sheet": false,
        "run_control": {
          "read_only": false
        },
        "id": "ylqG0fhyORoP"
      },
      "source": [
        "*Side Note:* We could use `df_can['2013'].plot.hist()`, instead. In fact, throughout this lesson, using `some_data.plot(kind='type_plot', ...)` is equivalent to `some_data.plot.type_plot(...)`. That is, passing the type of the plot as argument or method behaves the same.\n",
        "\n",
        "See the *pandas* documentation for more info  http://pandas.pydata.org/pandas-docs/stable/generated/pandas.Series.plot.html.\n"
      ]
    },
    {
      "cell_type": "markdown",
      "metadata": {
        "button": false,
        "new_sheet": false,
        "run_control": {
          "read_only": false
        },
        "id": "oVG3Qox4ORoP"
      },
      "source": [
        "We can also plot multiple histograms on the same plot. For example, let's try to answer the following questions using a histogram.\n",
        "\n",
        "**Question**: What is the immigration distribution for Denmark, Norway, and Sweden for years 1980 - 2013?\n"
      ]
    },
    {
      "cell_type": "code",
      "execution_count": null,
      "metadata": {
        "button": false,
        "new_sheet": false,
        "run_control": {
          "read_only": false
        },
        "id": "0HDqgh6pORoP"
      },
      "outputs": [],
      "source": [
        "# let's quickly view the dataset\n",
        "df_can.loc[['Denmark', 'Norway', 'Sweden'], years]"
      ]
    },
    {
      "cell_type": "code",
      "execution_count": null,
      "metadata": {
        "button": false,
        "new_sheet": false,
        "run_control": {
          "read_only": false
        },
        "id": "vo8x9u2oORoP"
      },
      "outputs": [],
      "source": [
        "# generate histogram\n",
        "df_can.loc[['Denmark', 'Norway', 'Sweden'], years].plot.hist()"
      ]
    },
    {
      "cell_type": "markdown",
      "metadata": {
        "button": false,
        "new_sheet": false,
        "run_control": {
          "read_only": false
        },
        "id": "ZU0KFPdBORoQ"
      },
      "source": [
        "That does not look right!\n",
        "\n",
        "Don't worry, you'll often come across situations like this when creating plots. The solution often lies in how the underlying dataset is structured.\n",
        "\n",
        "Instead of plotting the population frequency distribution of the population for the 3 countries, *pandas* instead plotted the population frequency distribution for the `years`.\n",
        "\n",
        "This can be easily fixed by first transposing the dataset, and then plotting as shown below.\n",
        "\n"
      ]
    },
    {
      "cell_type": "code",
      "execution_count": null,
      "metadata": {
        "button": false,
        "new_sheet": false,
        "run_control": {
          "read_only": false
        },
        "id": "HUxvafXwORoQ",
        "collapsed": true
      },
      "outputs": [],
      "source": [
        "# transpose dataframe\n",
        "df_t = df_can.loc[['Denmark', 'Norway', 'Sweden'], years].transpose()\n",
        "df_t.head()"
      ]
    },
    {
      "cell_type": "code",
      "execution_count": null,
      "metadata": {
        "button": false,
        "new_sheet": false,
        "run_control": {
          "read_only": false
        },
        "id": "HRZCxeNKORoQ"
      },
      "outputs": [],
      "source": [
        "# generate histogram\n",
        "df_t.plot(kind='hist', figsize=(10, 6))\n",
        "\n",
        "plt.title('Histogram of Immigration from Denmark, Norway, and Sweden from 1980 - 2013')\n",
        "plt.ylabel('Number of Years')\n",
        "plt.xlabel('Number of Immigrants')\n",
        "\n",
        "plt.show()"
      ]
    },
    {
      "cell_type": "markdown",
      "metadata": {
        "button": false,
        "new_sheet": false,
        "run_control": {
          "read_only": false
        },
        "id": "cIqi6gYSORoQ"
      },
      "source": [
        "Let's make a few modifications to improve the impact and aesthetics of the previous plot:\n",
        "* increase the bin size to 15 by passing in `bins` parameter;\n",
        "* set transparency to 60% by passing in `alpha` parameter;\n",
        "* label the x-axis by passing in `x-label` parameter;\n",
        "* change the colors of the plots by passing in `color` parameter.\n"
      ]
    },
    {
      "cell_type": "code",
      "execution_count": null,
      "metadata": {
        "button": false,
        "new_sheet": false,
        "run_control": {
          "read_only": false
        },
        "id": "NyjASZWTORoQ"
      },
      "outputs": [],
      "source": [
        "# let's get the x-tick values\n",
        "count, bin_edges = np.histogram(df_t, 15)\n",
        "\n",
        "# un-stacked histogram\n",
        "df_t.plot(kind ='hist',\n",
        "          figsize=(10, 6),\n",
        "          bins=15,\n",
        "          alpha=0.6,\n",
        "          xticks=bin_edges,\n",
        "          color=['coral', 'darkslateblue', 'mediumseagreen']\n",
        "         )\n",
        "\n",
        "plt.title('Histogram of Immigration from Denmark, Norway, and Sweden from 1980 - 2013')\n",
        "plt.ylabel('Number of Years')\n",
        "plt.xlabel('Number of Immigrants')\n",
        "\n",
        "plt.show()"
      ]
    },
    {
      "cell_type": "markdown",
      "metadata": {
        "button": false,
        "new_sheet": false,
        "run_control": {
          "read_only": false
        },
        "id": "4HmNFwOlORoQ"
      },
      "source": [
        "Tip:\n",
        "For a full listing of colors available in Matplotlib, run the following code in your python shell:\n",
        "```python\n",
        "import matplotlib\n",
        "for name, hex in matplotlib.colors.cnames.items():\n",
        "    print(name, hex)\n",
        "```\n"
      ]
    },
    {
      "cell_type": "markdown",
      "metadata": {
        "button": false,
        "new_sheet": false,
        "run_control": {
          "read_only": false
        },
        "id": "6_GNPU-TORoQ"
      },
      "source": [
        "If we do not want the plots to overlap each other, we can stack them using the `stacked` parameter. Let's also adjust the min and max x-axis labels to remove the extra gap on the edges of the plot. We can pass a tuple (min,max) using the `xlim` paramater, as show below.\n"
      ]
    },
    {
      "cell_type": "code",
      "execution_count": null,
      "metadata": {
        "button": false,
        "new_sheet": false,
        "run_control": {
          "read_only": false
        },
        "id": "olIschPnORoQ"
      },
      "outputs": [],
      "source": [
        "count, bin_edges = np.histogram(df_t, 15)\n",
        "xmin = bin_edges[0] - 10   #  first bin value is 31.0, adding buffer of 10 for aesthetic purposes\n",
        "xmax = bin_edges[-1] + 10  #  last bin value is 308.0, adding buffer of 10 for aesthetic purposes\n",
        "\n",
        "# stacked Histogram\n",
        "df_t.plot(kind='hist',\n",
        "          figsize=(10, 6),\n",
        "          bins=15,\n",
        "          alpha=0.35,\n",
        "          xticks=bin_edges,\n",
        "          color=['coral', 'darkslateblue', 'mediumseagreen'],\n",
        "          stacked=True,\n",
        "          xlim=(xmin, xmax)\n",
        "         )\n",
        "\n",
        "plt.title('Histogram of Immigration from Denmark, Norway, and Sweden from 1980 - 2013')\n",
        "plt.ylabel('Number of Years')\n",
        "plt.xlabel('Number of Immigrants')\n",
        "\n",
        "plt.show()"
      ]
    },
    {
      "cell_type": "markdown",
      "metadata": {
        "button": false,
        "new_sheet": false,
        "run_control": {
          "read_only": false
        },
        "id": "2uFKQB9lORoR"
      },
      "source": [
        "**Question**: Use the scripting layer to display the immigration distribution for Greece, Albania, and Bulgaria for years 1980 - 2013? Use an overlapping plot with 15 bins and a transparency value of 0.35.\n"
      ]
    },
    {
      "cell_type": "code",
      "execution_count": null,
      "metadata": {
        "button": false,
        "new_sheet": false,
        "run_control": {
          "read_only": false
        },
        "id": "a0skCChZORoR"
      },
      "outputs": [],
      "source": [
        "### type your answer here\n",
        "df_g = df_can.loc[['Greece','Albania','Bulgaria'],years]\n",
        "df_g = df_g.transpose()\n",
        "\n",
        "df_g.plot(kind='hist',\n",
        "          figsize=(6,4),\n",
        "          bins=15,\n",
        "          alpha=0.35,\n",
        "          )\n",
        "\n",
        "plt.title('Histogram of Immigration from Greece, Albania, and Bulgaria from 1980 - 2013')\n",
        "plt.ylabel('Number of Years')\n",
        "plt.xlabel('Number of Immigrants')\n",
        "\n",
        "plt.show()"
      ]
    },
    {
      "cell_type": "markdown",
      "metadata": {
        "button": false,
        "new_sheet": false,
        "run_control": {
          "read_only": false
        },
        "id": "2E4_UaqrORoR"
      },
      "source": [
        "<details><summary>Click here for a sample python solution</summary>\n",
        "\n",
        "```python\n",
        "    #The correct answer is:\n",
        "    \n",
        "    # create a dataframe of the countries of interest (cof)\n",
        "    df_cof = df_can.loc[['Greece', 'Albania', 'Bulgaria'], years]\n",
        "\n",
        "    # transpose the dataframe\n",
        "    df_cof = df_cof.transpose()\n",
        "\n",
        "    # let's get the x-tick values\n",
        "    count, bin_edges = np.histogram(df_cof, 15)\n",
        "\n",
        "    # Un-stacked Histogram\n",
        "    df_cof.plot(kind ='hist',\n",
        "                figsize=(10, 6),\n",
        "                bins=15,\n",
        "                alpha=0.35,\n",
        "                xticks=bin_edges,\n",
        "                color=['coral', 'darkslateblue', 'mediumseagreen']\n",
        "                )\n",
        "\n",
        "    plt.title('Histogram of Immigration from Greece, Albania, and Bulgaria from 1980 - 2013')\n",
        "    plt.ylabel('Number of Years')\n",
        "    plt.xlabel('Number of Immigrants')\n",
        "\n",
        "    plt.show()\n",
        "\n",
        "    \n",
        "```\n",
        "</details>\n"
      ]
    },
    {
      "cell_type": "markdown",
      "metadata": {
        "button": false,
        "new_sheet": false,
        "run_control": {
          "read_only": false
        },
        "id": "Qtpo0penORoR"
      },
      "source": [
        "# Bar Charts (Dataframe) <a id=\"10\"></a>\n",
        "\n",
        "A bar plot is a way of representing data where the *length* of the bars represents the magnitude/size of the feature/variable. Bar graphs usually represent numerical and categorical variables grouped in intervals.\n",
        "\n",
        "To create a bar plot, we can pass one of two arguments via `kind` parameter in `plot()`:\n",
        "\n",
        "* `kind=bar` creates a *vertical* bar plot\n",
        "* `kind=barh` creates a *horizontal* bar plot\n"
      ]
    },
    {
      "cell_type": "markdown",
      "metadata": {
        "button": false,
        "new_sheet": false,
        "run_control": {
          "read_only": false
        },
        "id": "JryWA9wiORoR"
      },
      "source": [
        "**Vertical bar plot**\n",
        "\n",
        "In vertical bar graphs, the x-axis is used for labelling, and the length of bars on the y-axis corresponds to the magnitude of the variable being measured. Vertical bar graphs are particularly useful in analyzing time series data. One disadvantage is that they lack space for text labelling at the foot of each bar.\n",
        "\n",
        "**Let's start off by analyzing the effect of Iceland's Financial Crisis:**\n",
        "\n",
        "The 2008 - 2011 Icelandic Financial Crisis was a major economic and political event in Iceland. Relative to the size of its economy, Iceland's systemic banking collapse was the largest experienced by any country in economic history. The crisis led to a severe economic depression in 2008 - 2011 and significant political unrest.\n",
        "\n",
        "**Question:** Let's compare the number of Icelandic immigrants (country = 'Iceland') to Canada from year 1980 to 2013.\n"
      ]
    },
    {
      "cell_type": "code",
      "execution_count": null,
      "metadata": {
        "button": false,
        "new_sheet": false,
        "run_control": {
          "read_only": false
        },
        "id": "GIAvgwVfORoR"
      },
      "outputs": [],
      "source": [
        "# step 1: get the data\n",
        "df_iceland = df_can.loc['Iceland', years]\n",
        "df_iceland.head()"
      ]
    },
    {
      "cell_type": "code",
      "execution_count": null,
      "metadata": {
        "button": false,
        "new_sheet": false,
        "run_control": {
          "read_only": false
        },
        "id": "cgT7iKFNORoR"
      },
      "outputs": [],
      "source": [
        "# step 2: plot data\n",
        "df_iceland.plot(kind='bar', figsize=(10, 6))\n",
        "\n",
        "plt.xlabel('Year') # add to x-label to the plot\n",
        "plt.xticks(rotation=50, ha='right')\n",
        "plt.ylabel('Number of immigrants') # add y-label to the plot\n",
        "plt.title('Icelandic immigrants to Canada from 1980 to 2013') # add title to the plot\n",
        "\n",
        "plt.show()"
      ]
    },
    {
      "cell_type": "markdown",
      "metadata": {
        "button": false,
        "new_sheet": false,
        "run_control": {
          "read_only": false
        },
        "id": "uR8QIpogORoS"
      },
      "source": [
        "The bar plot above shows the total number of immigrants broken down by each year. We can clearly see the impact of the financial crisis; the number of immigrants to Canada started increasing rapidly after 2008.\n",
        "\n",
        "Let's annotate this on the plot using the `annotate` method of the **scripting layer** or the **pyplot interface**. We will pass in the following parameters:\n",
        "- `s`: str, the text of annotation.\n",
        "- `xy`: Tuple specifying the (x,y) point to annotate (in this case, end point of arrow).\n",
        "- `xytext`: Tuple specifying the (x,y) point to place the text (in this case, start point of arrow).\n",
        "- `xycoords`: The coordinate system that xy is given in - 'data' uses the coordinate system of the object being annotated (default).\n",
        "- `arrowprops`: Takes a dictionary of properties to draw the arrow:\n",
        "    - `arrowstyle`: Specifies the arrow style, `'->'` is standard arrow.\n",
        "    - `connectionstyle`: Specifies the connection type. `arc3` is a straight line.\n",
        "    - `color`: Specifies color of arrow.\n",
        "    - `lw`: Specifies the line width.\n",
        "\n",
        "I encourage you to read the Matplotlib documentation for more details on annotations:\n",
        "http://matplotlib.orsg/api/pyplot_api.html#matplotlib.pyplot.annotate.\n"
      ]
    },
    {
      "cell_type": "code",
      "execution_count": null,
      "metadata": {
        "button": false,
        "new_sheet": false,
        "run_control": {
          "read_only": false
        },
        "id": "_r40Ho7RORoS"
      },
      "outputs": [],
      "source": [
        "df_iceland.plot(kind='bar', figsize=(10, 6), rot=90)  # rotate the xticks(labelled points on x-axis) by 90 degrees\n",
        "\n",
        "plt.xlabel('Year')\n",
        "plt.ylabel('Number of Immigrants')\n",
        "plt.title('Icelandic Immigrants to Canada from 1980 to 2013')\n",
        "\n",
        "# Annotate arrow\n",
        "plt.annotate('',  # s: str. Will leave it blank for no text\n",
        "             xy=(32, 70),  # place head of the arrow at point (year 2012 , pop 70)\n",
        "             xytext=(28, 20),  # place base of the arrow at point (year 2008 , pop 20)\n",
        "             xycoords='data',  # will use the coordinate system of the object being annotated\n",
        "             arrowprops=dict(arrowstyle='->', connectionstyle='arc3', color='blue', lw=2)\n",
        "             )\n",
        "\n",
        "plt.show()"
      ]
    },
    {
      "cell_type": "markdown",
      "metadata": {
        "button": false,
        "new_sheet": false,
        "run_control": {
          "read_only": false
        },
        "id": "TCEDY78yORoS"
      },
      "source": [
        "Let's also annotate a text to go over the arrow.  We will pass in the following additional parameters:\n",
        "- `rotation`: rotation angle of text in degrees (counter clockwise)\n",
        "- `va`: vertical alignment of text [‘center’ | ‘top’ | ‘bottom’ | ‘baseline’]\n",
        "- `ha`: horizontal alignment of text [‘center’ | ‘right’ | ‘left’]\n"
      ]
    },
    {
      "cell_type": "code",
      "execution_count": null,
      "metadata": {
        "button": false,
        "new_sheet": false,
        "run_control": {
          "read_only": false
        },
        "id": "BvvVUPzAORoS"
      },
      "outputs": [],
      "source": [
        "df_iceland.plot(kind='bar', figsize=(10, 6), rot=90)\n",
        "\n",
        "plt.xlabel('Year')\n",
        "plt.ylabel('Number of Immigrants')\n",
        "plt.title('Icelandic Immigrants to Canada from 1980 to 2013')\n",
        "\n",
        "# Annotate arrow\n",
        "plt.annotate('',  # s: str. will leave it blank for no text\n",
        "             xy=(32, 70),  # place head of the arrow at point (year 2012 , pop 70)\n",
        "             xytext=(28, 20),  # place base of the arrow at point (year 2008 , pop 20)\n",
        "             xycoords='data',  # will use the coordinate system of the object being annotated\n",
        "             arrowprops=dict(arrowstyle='->', connectionstyle='arc3', color='blue', lw=2)\n",
        "             )\n",
        "\n",
        "# Annotate Text\n",
        "plt.annotate('2008 - 2011 Financial Crisis',  # text to display\n",
        "             xy=(28, 30),  # start the text at at point (year 2008 , pop 30)\n",
        "             rotation=73,  # based on trial and error to match the arrow\n",
        "             va='bottom',  # want the text to be vertically 'bottom' aligned\n",
        "             ha='left',  # want the text to be horizontally 'left' algned.\n",
        "             )\n",
        "\n",
        "plt.show()"
      ]
    },
    {
      "cell_type": "markdown",
      "metadata": {
        "button": false,
        "new_sheet": false,
        "run_control": {
          "read_only": false
        },
        "id": "RxqIxOFlORoS"
      },
      "source": [
        "**Horizontal Bar Plot**\n",
        "\n",
        "Sometimes it is more practical to represent the data horizontally, especially if you need more room for labelling the bars. In horizontal bar graphs, the y-axis is used for labelling, and the length of bars on the x-axis corresponds to the magnitude of the variable being measured. As you will see, there is more room on the y-axis to  label categorical variables.\n",
        "\n",
        "\n",
        "**Question:** Using the scripting later and the `df_can` dataset, create a *horizontal* bar plot showing the *total* number of immigrants to Canada from the top 15 countries, for the period 1980 - 2013. Label each country with the total immigrant count.\n"
      ]
    },
    {
      "cell_type": "markdown",
      "metadata": {
        "button": false,
        "new_sheet": false,
        "run_control": {
          "read_only": false
        },
        "id": "hSBoeEnxORoS"
      },
      "source": [
        "Step 1: Get the data pertaining to the top 15 countries.\n"
      ]
    },
    {
      "cell_type": "code",
      "execution_count": null,
      "metadata": {
        "button": false,
        "new_sheet": false,
        "run_control": {
          "read_only": false
        },
        "id": "4G9-IsvdORoT"
      },
      "outputs": [],
      "source": [
        "### type your answer here\n",
        "df_top15 = df_can.head(15)\n",
        "df_top15 = df_top15['Total'].transpose()\n"
      ]
    },
    {
      "cell_type": "markdown",
      "metadata": {
        "button": false,
        "new_sheet": false,
        "run_control": {
          "read_only": false
        },
        "id": "DZ1-815eORoT"
      },
      "source": [
        "<details><summary>Click here for a sample python solution</summary>\n",
        "\n",
        "```python\n",
        "    #The correct answer is:\n",
        "    \n",
        "    # sort dataframe on 'Total' column (descending)\n",
        "    df_can.sort_values(by='Total', ascending=True, inplace=True)\n",
        "\n",
        "    # get top 15 countries\n",
        "    df_top15 = df_can['Total'].tail(15)\n",
        "    df_top15\n",
        "\n",
        "```\n",
        "\n",
        "\n",
        "</details>\n"
      ]
    },
    {
      "cell_type": "markdown",
      "metadata": {
        "button": false,
        "new_sheet": false,
        "run_control": {
          "read_only": false
        },
        "id": "bbcumpIMORoT"
      },
      "source": [
        "Step 2: Plot data:\n",
        "   1. Use `kind='barh'` to generate a bar chart with horizontal bars.\n",
        "   2. Make sure to choose a good size for the plot and to label your axes and to give the plot a title.\n",
        "   3. Loop through the countries and annotate the immigrant population using the anotate function of the scripting interface.\n"
      ]
    },
    {
      "cell_type": "code",
      "execution_count": null,
      "metadata": {
        "button": false,
        "new_sheet": false,
        "run_control": {
          "read_only": false
        },
        "id": "VMLSySsuORoT"
      },
      "outputs": [],
      "source": [
        "### type your answer here\n",
        "df_top15.plot (kind='barh',\n",
        "              figsize=(8,6),\n",
        "              color='r'\n",
        "              )\n",
        "for i, v in enumerate(df_top15):\n",
        "      label = format (int(v), ',')\n",
        "      plt.annotate(label,\n",
        "                  xy=( (v/2) , (i) ),\n",
        "                  color='white',\n",
        "                  va='center',\n",
        "                  ha='center')\n",
        "\n",
        "plt.ylabel('Country')\n",
        "plt.title('Top 15 countries - Immigration to Canada')\n"
      ]
    },
    {
      "cell_type": "markdown",
      "metadata": {
        "button": false,
        "new_sheet": false,
        "run_control": {
          "read_only": false
        },
        "id": "x-gsFZQlORoT"
      },
      "source": [
        "<details><summary>Click here for a sample python solution</summary>\n",
        "\n",
        "```python\n",
        "    #The correct answer is:\n",
        "    \n",
        "    # generate plot\n",
        "    df_top15.plot(kind='barh', figsize=(12, 12), color='steelblue')\n",
        "    plt.xlabel('Number of Immigrants')\n",
        "    plt.title('Top 15 Conuntries Contributing to the Immigration to Canada between 1980 - 2013')\n",
        "\n",
        "    # annotate value labels to each country\n",
        "    for index, value in enumerate(df_top15):\n",
        "        label = format(int(value), ',') # format int with commas\n",
        "    \n",
        "    # place text at the end of bar (subtracting 47000 from x, and 0.1 from y to make it fit within the bar)\n",
        "        plt.annotate(label, xy=(value - 47000, index - 0.10), color='white')\n",
        "\n",
        "    plt.show()\n",
        "\n",
        "```\n",
        "\n",
        "\n",
        "</details>\n"
      ]
    }
  ],
  "metadata": {
    "kernelspec": {
      "display_name": "Python",
      "language": "python",
      "name": "conda-env-python-py"
    },
    "language_info": {
      "name": ""
    },
    "colab": {
      "provenance": [],
      "include_colab_link": true
    }
  },
  "nbformat": 4,
  "nbformat_minor": 0
}