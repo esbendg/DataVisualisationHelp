{
 "cells": [
  {
   "cell_type": "markdown",
   "metadata": {
    "id": "L9CNfIBo8P0N"
   },
   "source": [
    "# Exploring Python Visualization Libraries\n"
   ]
  },
  {
   "cell_type": "markdown",
   "metadata": {
    "id": "g1KipBV8ISLp"
   },
   "source": [
    "In this module, we will explore three widely used Python libraries for data visualization: Matplotlib, Seaborn, and Plotly. Each of these libraries serves a specific purpose in the world of data visualization and has its own strengths and limitations.\n",
    "\n",
    "By the end of this module, you will:\n",
    "\n",
    "Understand the differences between these libraries.\n",
    "Learn when to use Matplotlib for static, highly customizable visualizations.\n",
    "Discover how Seaborn simplifies statistical plotting with beautiful, built-in themes.\n",
    "Experience how Plotly creates interactive plots ideal for dashboards and web applications.\n",
    "We’ll demonstrate this through a hands-on example, plotting the same data using all three libraries. This will allow us to see firsthand how each library approaches visualization in Python and how they compare in terms of flexibility, ease of use, and interactivity.\n",
    "\n"
   ]
  },
  {
   "cell_type": "code",
   "execution_count": null,
   "metadata": {
    "colab": {
     "base_uri": "https://localhost:8080/",
     "height": 564
    },
    "id": "PUR5aCxkISxR",
    "outputId": "48889341-01e7-41ce-dc27-a12f125d27f5"
   },
   "outputs": [],
   "source": [
    "# Import necessary libraries\n",
    "import matplotlib.pyplot as plt  # Library for creating static plots\n",
    "import seaborn as sns  # Library for statistical data visualization\n",
    "import plotly.express as px  # Library for creating interactive plots\n",
    "import pandas as pd  # Library for data manipulation and analysis\n",
    "\n",
    "# Create some example data using Pandas DataFrame\n",
    "data = pd.DataFrame({\n",
    "    'x': range(10),  # X values ranging from 0 to 9\n",
    "    'y': [i**2 for i in range(10)],  # Y values as squares of X values\n",
    "    'category': ['A', 'B', 'C', 'D', 'E', 'F', 'G', 'H', 'I', 'J']  # Categories A to J\n",
    "})\n",
    "\n",
    "# Matplotlib Example\n",
    "# Create a new figure with a specified size\n",
    "plt.figure()\n",
    "# Plot the data using a line plot with markers, dashed lines, and blue color\n",
    "plt.plot(data['x'], data['y'], marker='o', linestyle=':', color='b')\n",
    "# Set title and labels for x and y axes\n",
    "plt.title('Matplotlib Example')\n",
    "plt.xlabel('X')\n",
    "plt.ylabel('Y')\n",
    "# Add grid lines to the plot\n",
    "plt.grid(True)\n",
    "# Show the plot\n",
    "plt.show()\n",
    "\n",
    "\n"
   ]
  },
  {
   "cell_type": "markdown",
   "metadata": {
    "id": "uaMMLD-3EEiB"
   },
   "source": [
    "**TP Questions:**\n",
    "\n",
    "1. What type of plot is created in this example? Can you explain how the plt.plot() function is used to create this plot?\n",
    "\n",
    "   **Ans:**\n",
    "   Line plot graph. Plot is used to enter the data (data[x], data[y]) and then set the line as dotted, mark the points and color to blue.\n",
    "\n",
    "3. Why do we use marker='o' and linestyle='--' in this plot? What would happen if we removed them?\n",
    "Can you suggest other ways to customize the line style, markers, or color in Matplotlib?\n",
    "\n",
    "   **Ans:**\n",
    "    There would be just a line. We use (marker='o') to show the specific instances of data.\n",
    "   linestyle can be =\n",
    "   solid'      or '-'\n",
    "   'dotted'\t   or ':'\n",
    "   'dashed'\t   or '--'\n",
    "   'dashdot'   or '-.'\n",
    "   'None'\t   or ' '\n",
    "   \n",
    "   marker can be = '^', 'v', 'x'...\n",
    "\n",
    "   Color can also be change [Many options](https://matplotlib.org/stable/users/explain/colors/colors.html#colors-def)\n",
    "\n",
    "5. How does Matplotlib handle figure size? What does the figsize=(8, 6) parameter do in the plt.figure() function?\n",
    "\n",
    "   **Ans:**\n",
    "   Figsize default is (6.4, 4.8) and can be adjusted to change the size and dimensions (ratio) of the plot.\n",
    "\n",
    "7. Titles, labels, and gridlines are manually added here. Why is this necessary in Matplotlib? Can you think of scenarios where this flexibility is beneficial?\n",
    "\n",
    "   **Ans:**\n",
    "   It's important to add titles, labels and possibly gridlines, to enhance the understanding of the reader. No titles and labels makes it impossible to read. gridlines is usually important to show accuracy.\n",
    "\n",
    "9. The data DataFrame was created using Pandas. How does Matplotlib handle plotting with data from external sources like CSV files or databases?\n",
    "How would you modify this plot if you had more complex data, such as multiple categories or time-series data?\n",
    "\n",
    "    **Ans: (From Gemini)**\n",
    "\n",
    "    * Matplotlib plots data loaded into Python (NumPy arrays, Pandas DataFrames).\n",
    "    * Use Pandas (`read_csv`, `read_excel`, etc.) to load external data.\n",
    "    * Prepare data in DataFrame (clean, transform, etc.) before plotting.\n",
    "    * Pass DataFrame columns to Matplotlib functions (`plt.plot`, `plt.bar`, etc.).\n",
    "\n",
    "    **Complex Data Handling**\n",
    "\n",
    "    * **Multiple Categories:**\n",
    "        * Colors/Markers\n",
    "        * Subplots/Multiple Plots\n",
    "        * Grouped Bar Charts\n",
    "        * Legends\n",
    "    * **Time-Series:**\n",
    "        * `plt.plot`\n",
    "        * Datetime formatting\n",
    "        * Moving averages\n",
    "\n",
    "11. Matplotlib plots are often highly customizable. What would you do if you wanted to use a different color scheme, line thickness, or font size?\n",
    "Can you think of any limitations of Matplotlib when it comes to creating visually appealing plots with minimal effort?\n",
    "\n",
    "    **Ans: (From Gemini)**\n",
    "    Color Schemes:\n",
    "        *Stylesheets (plt.style.use)\n",
    "        *Colormaps (cmap)\n",
    "        *Manual colors (names, hex codes, RGB)\n",
    "        *Line Thickness: linewidth argument\n",
    "        *Font Size: fontsize argument, rcParams['font.size']\n",
    "        *Limitations\n",
    "\n",
    "    *Can be verbose for complex plots\n",
    "    *Default style may seem basic\n",
    "    *Advanced visualizations can require effort\n",
    "\n",
    "13. How does Matplotlib’s static nature impact its use in interactive visualizations or dashboards?\n",
    "\n",
    "    **Ans: (From Gemini)**\n",
    "    Matplotlib's primary focus on static images makes it less suitable for creating highly interactive visualizations or dashboards.\n",
    "\n",
    "    * **No Built-in Interactivity:**\n",
    "            Matplotlib plots are essentially static images. While some basic interactivity (e.g., zooming, panning) is possible within certain environments (like Jupyter notebooks), it lacks the advanced interactive features found in libraries designed for this purpose.\n",
    "\n",
    "    * **Limited Responsiveness:**\n",
    "            Matplotlib isn't designed for real-time updates or dynamic data changes that are often needed in dashboards. Updating a Matplotlib plot usually requires redrawing the entire figure.\n",
    "\n",
    "    * **Integration Challenges:**\n",
    "            Integrating Matplotlib plots into interactive web dashboards or applications can be more complex compared to libraries that natively support web technologies.\n",
    "\n",
    "    **How this impacts use:**\n",
    "\n",
    "    * **Exploration vs. Presentation:** \n",
    "        Matplotlib is excellent for exploratory data analysis and creating static visualizations for reports or publications.\n",
    "\n",
    "rich dashboards.\r\n",
    "ations or dashboards?"
   ]
  },
  {
   "cell_type": "markdown",
   "metadata": {
    "id": "WuWcViaKFpsJ"
   },
   "source": [
    "**Seaborn** is a Python data visualization library based on Matplotlib. It is designed to make statistical plots easier to create and more visually appealing with less effort. While Matplotlib provides a lot of flexibility, Seaborn simplifies the process by offering high-level functions for drawing attractive and informative statistical graphics.\n",
    "\n",
    "One of Seaborn’s strengths is its tight integration with Pandas DataFrames, making it easy to create plots from structured datasets. Seaborn also comes with several built-in themes and color palettes, making the default visualizations more aesthetically pleasing compared to Matplotlib.\n",
    "\n",
    "**Key Features of Seaborn:**\n",
    "\n",
    "Built-in Themes and Styles: Seaborn automatically applies visually appealing styles to your plots, so you don’t need to manually adjust the aesthetics as you would in Matplotlib. It also offers a wide range of color palettes to make categorical data stand out.\n",
    "\n",
    "Ease of Use: Seaborn simplifies complex visualizations by providing high-level abstractions. For example, it can generate attractive scatter plots, line plots, and statistical plots (such as distribution plots, heatmaps, etc.) with minimal code.\n",
    "\n",
    "Statistical Plots: Seaborn is particularly well-suited for creating statistical plots like correlation matrices, violin plots, and pair plots. These are especially useful for exploring relationships between variables and understanding data distributions.\n",
    "\n",
    "Integration with Pandas: Seaborn works seamlessly with Pandas DataFrames. Instead of needing to manually plot arrays of data, you can use column names directly to generate plots, making data visualization straightforward."
   ]
  },
  {
   "cell_type": "code",
   "execution_count": null,
   "metadata": {
    "colab": {
     "base_uri": "https://localhost:8080/",
     "height": 564
    },
    "id": "RUQ5rLXfDfea",
    "outputId": "3b975d2b-02c0-445f-f6f4-b5dfcb835a9e",
    "scrolled": true
   },
   "outputs": [],
   "source": [
    "# Seaborn Example\n",
    "# Create a new figure with a specified size\n",
    "plt.figure(figsize=(8, 6))\n",
    "# Create a scatter plot using Seaborn, with different colors and markers based on category\n",
    "sns.scatterplot(x='x', y='y', data=data, hue='category', style='category')\n",
    "# Set title and labels for x and y axes\n",
    "plt.title('Seaborn Example')\n",
    "plt.xlabel('X')\n",
    "plt.ylabel('Y')\n",
    "# Add grid lines to the plot\n",
    "plt.grid(True)\n",
    "# Show the plot\n",
    "plt.show()\n"
   ]
  },
  {
   "cell_type": "markdown",
   "metadata": {
    "id": "HCmO1_J5HrVp"
   },
   "source": [
    "#### The plotting functions in `seaborn` can be decided in two categories\n",
    "\n",
    "- **'axes-level'** functions, such as `regplot`, `boxplot`, `kdeplot`, `scatterplot`, `distplot` which can connect with the `matplotlib` Axes object and its parameters. You can use that object as you would in `matplotlib`:\n",
    "```python\n",
    "f, (ax1, ax2) = plt.subplots(2)\n",
    "sns.regplot(x, y, ax=ax1)\n",
    "sns.kdeplot(x, ax=ax2)\n",
    "ax1 = sns.distplot(x, kde=False, bins=20)\n",
    "```\n",
    "\n",
    "- **'figure-level'** functions, such as `lmplot`, `factorplot`, `jointplot`, `relplot`. In this case, `seaborn` organizes the resulting plot which may include several Axes in a meaningful way. That means that the functions need to have total control over the figure, so it isn't possible to plot, say, an `lmplot` onto one that already exists. Calling the function always initializes a figure and sets it up for the specific plot it's drawing. These functions return an object of the type `FacetGrid` with its own methods for operating on the resulting plot.\n",
    "\n",
    "To set the parameters for figure-level functions:\n",
    "\n",
    "```python\n",
    "sns.set_context(\"notebook\", font_scale=1, rc={\"lines.linewidth\": 2.5})\n",
    "```"
   ]
  },
  {
   "cell_type": "markdown",
   "metadata": {
    "id": "z2gP8ucoFW_i"
   },
   "source": [
    "### The Titanic dataset\n",
    "\n",
    "The `titanic.csv` file contains data for 887 passengers on the Titanic. Each row represents one person. The columns describe different attributes about the person including whether they survived, their age, their on-board class, their sex, and the fare they paid."
   ]
  },
  {
   "cell_type": "code",
   "execution_count": null,
   "metadata": {
    "colab": {
     "base_uri": "https://localhost:8080/"
    },
    "id": "8z-lkyvPIu9J",
    "outputId": "2d2f6140-a433-4e41-a573-9ad00c5af720"
   },
   "outputs": [],
   "source": [
    "titanic = sns.load_dataset('titanic');\n",
    "\n",
    "columns = ['embarked', 'who', 'adult_male', 'embark_town', 'alive', 'alone']\n",
    "titanic = titanic.drop(columns=columns)\n",
    "titanic.info();"
   ]
  },
  {
   "cell_type": "code",
   "execution_count": null,
   "metadata": {
    "colab": {
     "base_uri": "https://localhost:8080/"
    },
    "id": "USm7rUo4I-gA",
    "outputId": "609d261a-ee96-4178-87c3-3859cca56629"
   },
   "outputs": [],
   "source": [
    "titanic.columns"
   ]
  },
  {
   "cell_type": "markdown",
   "metadata": {
    "id": "nA-Yl-e9JC1w"
   },
   "source": [
    "<div class='exercise'> <b> Exercise:  Drop the following features:</div>\n",
    "    \n",
    "'embarked', 'who', 'adult_male', 'embark_town', 'alive', 'alone'"
   ]
  },
  {
   "cell_type": "code",
   "execution_count": null,
   "metadata": {
    "colab": {
     "base_uri": "https://localhost:8080/",
     "height": 424
    },
    "id": "pxKEpqWEJIhP",
    "outputId": "c0f5a435-17ae-4b38-b9d8-d5bc83fe2810"
   },
   "outputs": [],
   "source": [
    "# your code here\n",
    "# your code here\n",
    "# columns_to_drop = ['embarked', 'who', 'adult_male', 'embark_town', 'alive', 'alone']\n",
    "# titanic = titanic.drop(columns=columns_to_drop)\n",
    "#hint: \n",
    "# columns = ['embarked', 'who', 'adult_male', 'embark_town', 'alive', 'alone']\n",
    "#hint: \n",
    "# titanic = titanic.drop(columns=columns)\n",
    "titanic.columns"
   ]
  },
  {
   "cell_type": "markdown",
   "metadata": {
    "id": "f-tcl_sNJkPG"
   },
   "source": [
    "<div class='exercise'> <b> Exercise:  Find for how many passengeres we do not have their deck information.</div>"
   ]
  },
  {
   "cell_type": "code",
   "execution_count": null,
   "metadata": {
    "colab": {
     "base_uri": "https://localhost:8080/"
    },
    "id": "LSOGsuOBJpQu",
    "outputId": "e8d232e3-0b5a-4975-8e72-8d6a87cff718"
   },
   "outputs": [],
   "source": [
    "# your code here\n",
    "# your code here\n",
    "# Hint: Answer: 688\n",
    "print(titanic.deck.isnull().sum())\n",
    "# print(titanic['deck'].notnull().sum())"
   ]
  },
  {
   "cell_type": "markdown",
   "metadata": {
    "id": "Qrp3M5VkJ86O"
   },
   "source": [
    "### Histograms\n",
    "\n",
    "#### Plotting one variable's distribution (categorical and continous)\n",
    "The most convenient way to take a quick look at a univariate distribution in `seaborn` is the `distplot()` (see histplot also) function. By default, this will draw a histogram and fit a kernel density estimate (KDE).\n",
    "\n",
    "A histogram displays a quantitative (numerical) distribution by showing the number (or percentage) of the data values that fall in specified intervals. The intervals are on the x-axis and the number of values falling in each interval, shown as either a number or percentage, are represented by bars drawn above the corresponding intervals."
   ]
  },
  {
   "cell_type": "code",
   "execution_count": null,
   "metadata": {
    "colab": {
     "base_uri": "https://localhost:8080/",
     "height": 510
    },
    "id": "e0pAZ_uEKBdH",
    "outputId": "700d241a-091b-4a24-f9cf-a5975e9b039e"
   },
   "outputs": [],
   "source": [
    "# What was the age distribution among passengers in the Titanic?\n",
    "sns.set(color_codes=True)\n",
    "\n",
    "f, ax = plt.subplots(1,1, figsize=(8, 3));\n",
    "ax = sns.histplot(titanic.age, kde=False, bins=20)\n",
    "\n",
    "# bug\n",
    "#ax = sns.distplot(titanic.age, kde=False, bins=20).set(xlim=(0, 90));\n",
    "ax.set(xlim=(0, titanic.age.max()));\n",
    "ax.set_ylabel('counts');"
   ]
  },
  {
   "cell_type": "code",
   "execution_count": null,
   "metadata": {
    "colab": {
     "base_uri": "https://localhost:8080/",
     "height": 296
    },
    "id": "J2oCo26sKj5Q",
    "outputId": "b519f9b5-51be-42b0-b221-83fa98d86571"
   },
   "outputs": [],
   "source": [
    "f, ax = plt.subplots(1,1, figsize=(8, 3))\n",
    "ax.hist(titanic.age, bins=20);\n",
    "ax.set_xlim(0,90);"
   ]
  },
  {
   "cell_type": "markdown",
   "metadata": {
    "id": "mV6hzroDKouG"
   },
   "source": [
    "<div class='exercise'> <b> Exercise (pandas trick): Count all the infants on board (age less than 3) and all the children ages 5-10.</div>"
   ]
  },
  {
   "cell_type": "code",
   "execution_count": null,
   "metadata": {
    "colab": {
     "base_uri": "https://localhost:8080/"
    },
    "id": "3VFkWUW3KsE9",
    "outputId": "0f410d36-72a4-4bfd-e330-05ec225c7e8c"
   },
   "outputs": [],
   "source": [
    "# your code here\n",
    "    \n",
    "infants = len(titanic[(titanic.age < 3)])\n",
    "children = len(titanic[(titanic.age >= 5) & (titanic.age <= 10)]) \n",
    "\n",
    "print(f'There were {infants} infants and {children} children on board the Titanic')\n",
    "# Hint: There were 24 infants and 38 children on board the Titanic\n",
    "\n",
    "# Create age categories - From Gemini\n",
    "titanic['age_group'] = pd.cut(titanic['age'], \n",
    "                               bins=[0, 3, 18, 90], \n",
    "                               labels=['infants', 'children', 'adults'],\n",
    "                               right=False)  # Include left edge in the bin\n",
    "\n",
    "# Count passengers in each age group\n",
    "age_group_counts = titanic['age_group'].value_counts()\n",
    "\n",
    "print(age_group_counts)"
   ]
  },
  {
   "cell_type": "markdown",
   "metadata": {
    "id": "dRfKZe3DL0UO"
   },
   "source": [
    "**Pandas trick:** We want to creat virtual \"bins\" for readability and replace ranges of values with categories.\n",
    "\n",
    "We will do this in an ad hoc way, **it can be done better**. For example in the previous plot we could set:\n",
    "    \n",
    "- `(age<3) = 'infants'`,\n",
    "- `(3<age<18)='children'`,\n",
    "- `(18<values<90)='adults'` <BR>\n",
    "\n",
    "See matplotlib [colors](https://matplotlib.org/3.1.0/tutorials/colors/colormaps.html) here."
   ]
  },
  {
   "cell_type": "code",
   "execution_count": null,
   "metadata": {
    "colab": {
     "base_uri": "https://localhost:8080/",
     "height": 434
    },
    "id": "lQHG5SkrL5Bm",
    "outputId": "d430d469-ed75-4c8a-b43a-b434b4a191a7"
   },
   "outputs": [],
   "source": [
    "# set the colors\n",
    "cmap = plt.get_cmap('Pastel1')\n",
    "young = cmap(0.5)\n",
    "middle = cmap(0.2)\n",
    "older = cmap(0.8)\n",
    "\n",
    "# get the object we will change - patches is an array with len: num of bins\n",
    "fig, ax = plt.subplots()\n",
    "y_values, bins, patches = ax.hist(titanic.age, 10)\n",
    "\n",
    "[patches[i].set_facecolor(young) for i in range(0,1)] # bin 0\n",
    "[patches[i].set_facecolor(middle) for i in range(1,3)] # bins 1 and 2\n",
    "[patches[i].set_facecolor(older) for i in range(3,10)] # 7 remaining bins\n",
    "\n",
    "\n",
    "\n",
    "ax.grid(True)\n",
    "fig.show()"
   ]
  },
  {
   "cell_type": "markdown",
   "metadata": {
    "id": "PY7QE6nyMAhO"
   },
   "source": [
    "#### Kernel Density Estimation\n",
    "The kernel density estimate can be a useful tool for plotting the shape of a distribution. The **bandwidth (bw)** (also observe the warnings from the code)parameter of the KDE controls how tightly the estimation is fit to the data, much like the bin size in a histogram. It corresponds to the width of the kernels we plotted above. The default behavior tries to guess a good value using a common reference rule, but it may be helpful to try larger or smaller values."
   ]
  },
  {
   "cell_type": "code",
   "execution_count": null,
   "metadata": {
    "colab": {
     "base_uri": "https://localhost:8080/",
     "height": 909
    },
    "id": "9-Geu5j_MEOm",
    "outputId": "a0b9b233-c64c-496b-ad24-baf5e8e05cf5"
   },
   "outputs": [],
   "source": [
    "# bw is substituted by bw_method and shade by fill.\n",
    "sns.kdeplot(titanic.age, bw_method=0.6, label=\"bw: 0.6\", fill=True, color=\"r\");\n",
    "sns.kdeplot(titanic.age, bw_method=2, label=\"bw: 2\", fill=True);"
   ]
  },
  {
   "cell_type": "markdown",
   "metadata": {
    "id": "uMr0S6-_MnNW"
   },
   "source": [
    "<div class='exercise'> <b> Exercise:  Plot the distribution of fare paid by passengers </div>"
   ]
  },
  {
   "cell_type": "code",
   "execution_count": null,
   "metadata": {
    "colab": {
     "base_uri": "https://localhost:8080/",
     "height": 458
    },
    "id": "_vVwKXxfMrFu",
    "outputId": "1e5b20e1-67ae-4b5c-964a-2366a94bc3c6"
   },
   "outputs": [],
   "source": [
    "sns.kdeplot(titanic.fare, bw_method=0.5, fill=True)\n",
    "# your code here\n",
    "# Hint use: sns.kdeplot(titanic.fare, bw_method=0.5, fill=True)"
   ]
  },
  {
   "cell_type": "markdown",
   "metadata": {
    "id": "o6NMZc9fNd0-"
   },
   "source": [
    "#### You can mix elements of `matplotlib` such as Axes with `seaborn` elements for a best use of both worlds."
   ]
  },
  {
   "cell_type": "code",
   "execution_count": null,
   "metadata": {
    "colab": {
     "base_uri": "https://localhost:8080/",
     "height": 498
    },
    "id": "nbd38wwZNrq1",
    "outputId": "d9f0a40b-e883-4b48-ec76-e490909e9057"
   },
   "outputs": [],
   "source": [
    "import seaborn as sns\n",
    "import numpy as np\n",
    "import scipy as sp\n",
    "sns.set(color_codes=True)\n",
    "\n",
    "x1 = np.random.normal(size=100)\n",
    "x2 = np.random.normal(size=100)\n",
    "\n",
    "fig, ax = plt.subplots(1,2, figsize=(15,5))\n",
    "\n",
    "# seaborn goes in first subplot\n",
    "sns.set(font_scale=0.5)\n",
    "sns.histplot(x1, kde=False, bins=15, ax=ax[0]);\n",
    "sns.histplot(x2, kde=False, bins=15, ax=ax[0]);\n",
    "ax[0].set_title('seaborn Graph Here', fontsize=14)\n",
    "ax[0].set_xlabel(r'$x$', fontsize=14)\n",
    "ax[0].set_ylabel(r'$count$', fontsize=14)\n",
    "\n",
    "# matplotlib goes in second subplot\n",
    "ax[1].hist(x1, alpha=0.2, bins=15, label=r'$x1$');\n",
    "ax[1].hist(x2, alpha=0.5, bins=15, label=r'$x2$');\n",
    "ax[1].set_xlabel(r'$x$', fontsize=14)\n",
    "ax[1].set_ylabel(r'$count$', fontsize=14)\n",
    "ax[1].set_title('matplotlib Graph Here', fontsize=14)\n",
    "ax[1].legend(loc='best', fontsize=14);"
   ]
  },
  {
   "cell_type": "markdown",
   "metadata": {
    "id": "1TFVPbzLOkG1"
   },
   "source": [
    "### Boxplots\n",
    "\n",
    "#### One variable."
   ]
  },
  {
   "cell_type": "code",
   "execution_count": null,
   "metadata": {
    "colab": {
     "base_uri": "https://localhost:8080/",
     "height": 511
    },
    "id": "WHh8sx1QOl11",
    "outputId": "1611c705-13b8-412c-f064-58a291741897"
   },
   "outputs": [],
   "source": [
    "# seaborn\n",
    "ax = sns.boxplot(x='age', data=titanic)\n",
    "#ax = sns.boxplot(x=titanic['age']) # another way to write this\n",
    "ax.set_ylabel(None);\n",
    "ax.set_xlabel('age', fontsize=14);\n",
    "ax.set_title('Distribution of age in the Titanic', fontsize=14);"
   ]
  },
  {
   "cell_type": "markdown",
   "metadata": {
    "id": "wKsHOSn-Owdd"
   },
   "source": [
    "<div class='exercise'> <b> Exercise:  Did more young people or older ones get first class tickets on the Titanic?</div>"
   ]
  },
  {
   "cell_type": "code",
   "execution_count": null,
   "metadata": {
    "colab": {
     "base_uri": "https://localhost:8080/",
     "height": 478
    },
    "id": "nvC0sloDO04N",
    "outputId": "9050983c-1e8f-42a8-bdb8-97e7752ebc43"
   },
   "outputs": [],
   "source": [
    "# your code here\n",
    "# two variables seaborn\n",
    "ax = sns.boxplot(x='class', y='age', data=titanic)"
   ]
  },
  {
   "cell_type": "code",
   "execution_count": null,
   "metadata": {
    "colab": {
     "base_uri": "https://localhost:8080/",
     "height": 489
    },
    "id": "6BRWLWWKPPod",
    "outputId": "a5c76bf9-8eab-448f-cab3-2b8d97b62a32"
   },
   "outputs": [],
   "source": [
    "# two variable boxplot in pandas\n",
    "titanic.boxplot('age',by='class')"
   ]
  },
  {
   "cell_type": "markdown",
   "metadata": {
    "id": "m7DJyqX7PYKV"
   },
   "source": [
    "### Scatterplots\n",
    "\n",
    "#### Plotting the distribution of two variables\n",
    "\n",
    "Also called a bivariate distribution where each observation is shown with  a point with x and y values. You can draw a scatterplot with the `matplotlib plt.scatter` function, or the `seaborn jointplot()` function:"
   ]
  },
  {
   "cell_type": "code",
   "execution_count": null,
   "metadata": {
    "colab": {
     "base_uri": "https://localhost:8080/",
     "height": 458
    },
    "id": "A-BM3t3zPb1d",
    "outputId": "1e07165d-e138-4cdb-d663-2b74b9e10e12"
   },
   "outputs": [],
   "source": [
    "# f, ax = plt.subplots(1,1, figsize=(10, 5))\n",
    "# sns.scatterplot(x=\"fare\", y=\"age\", data=titanic, ax=ax);\n",
    "\n",
    "sns.jointplot(x='fare',y='age',data=titanic)"
   ]
  },
  {
   "cell_type": "code",
   "execution_count": null,
   "metadata": {
    "colab": {
     "base_uri": "https://localhost:8080/",
     "height": 635
    },
    "id": "AsGfOmZaPk0M",
    "outputId": "72eae7be-dc36-4661-9f61-4b97b3fdca88"
   },
   "outputs": [],
   "source": [
    "sns.jointplot(x=\"fare\", y=\"age\", data=titanic, s=40, edgecolor=\"w\", linewidth=1)"
   ]
  },
  {
   "cell_type": "markdown",
   "metadata": {
    "id": "7BuOX-GBQAJs"
   },
   "source": [
    "You may control the `seaborn` [Figure aesthetics](https://seaborn.pydata.org/tutorial/aesthetics.html)."
   ]
  },
  {
   "cell_type": "code",
   "execution_count": null,
   "metadata": {
    "colab": {
     "base_uri": "https://localhost:8080/",
     "height": 458
    },
    "id": "K5072pEgQGns",
    "outputId": "12030272-4ae2-4386-d88d-c788a709b2f6"
   },
   "outputs": [],
   "source": [
    "f, ax = plt.subplots(1,1, figsize=(10, 5))\n",
    "sns.scatterplot(x=\"fare\", y=\"age\", hue=\"survived\", data=titanic, ax=ax);"
   ]
  },
  {
   "cell_type": "markdown",
   "metadata": {
    "id": "NkMngGr6QRg8"
   },
   "source": [
    "<div class='exercise'> <b> Exercise:  Plot the distribution of fare paid by passengers according to age, survival and sex. </div>\n",
    "    \n",
    "Use `size=` for the fourth variable"
   ]
  },
  {
   "cell_type": "code",
   "execution_count": null,
   "metadata": {
    "colab": {
     "base_uri": "https://localhost:8080/",
     "height": 458
    },
    "id": "XKxqbjaKQXYt",
    "outputId": "c3536a04-7259-4a60-9a83-79b5291bd4a4"
   },
   "outputs": [],
   "source": [
    "# your code here\n",
    "# f, ax = plt.subplots(1,1, figsize=(10,5))\n",
    "# sns.scatterplot(x='fare', y='age', hue='sex', size='survived', data=titanic, ax=ax)\n",
    "# Hint: f, ax = plt.subplots(1,1, figsize=(10, 5))\n",
    "# Hint: sns.scatterplot(x=\"fare\", y=\"age\", hue=\"survived\", size=\"sex\", data=titanic, ax=ax);\n",
    "\n",
    "# From Gemini - suggests making two plots, as the one above is slightly confusing.\n",
    "fig, axes = plt.subplots(1, 2, figsize=(15, 5))\n",
    "\n",
    "sns.scatterplot(x='fare', y='age', size='survived', data=titanic[titanic['sex'] == 'male'], ax=axes[0])\n",
    "axes[0].set_title('Male Passengers')\n",
    "\n",
    "sns.scatterplot(x='fare', y='age', size='survived', data=titanic[titanic['sex'] == 'female'], ax=axes[1])\n",
    "axes[1].set_title('Female Passengers')\n",
    "\n",
    "plt.tight_layout()\n",
    "plt.show()"
   ]
  },
  {
   "cell_type": "markdown",
   "metadata": {
    "id": "jB9nZq8qQlBj"
   },
   "source": [
    "### Pairplots"
   ]
  },
  {
   "cell_type": "code",
   "execution_count": null,
   "metadata": {
    "colab": {
     "base_uri": "https://localhost:8080/"
    },
    "id": "SmMCX6pzQo7U",
    "outputId": "e09728af-0fa4-4b6a-d870-091da9cc59f5"
   },
   "outputs": [],
   "source": [
    "titanic.columns"
   ]
  },
  {
   "cell_type": "code",
   "execution_count": null,
   "metadata": {
    "id": "gcpEGAEyQtWV"
   },
   "outputs": [],
   "source": [
    "to_plot = ['age', 'fare', 'survived', 'deck']"
   ]
  },
  {
   "cell_type": "code",
   "execution_count": null,
   "metadata": {
    "colab": {
     "base_uri": "https://localhost:8080/",
     "height": 763
    },
    "id": "ZgIRtV0QQx4E",
    "outputId": "a50fa791-e51b-4f62-f5b3-502f3b6c590a"
   },
   "outputs": [],
   "source": [
    "df_to_plot = titanic.loc[:,to_plot]\n",
    "sns.pairplot(df_to_plot);"
   ]
  },
  {
   "cell_type": "code",
   "execution_count": null,
   "metadata": {
    "colab": {
     "base_uri": "https://localhost:8080/",
     "height": 855
    },
    "id": "IFKVoUKiRBcN",
    "outputId": "4f94f356-9177-4067-aceb-01358313e1a6"
   },
   "outputs": [],
   "source": [
    "from pandas.plotting import scatter_matrix\n",
    "scatter_matrix(df_to_plot, alpha=0.8, figsize=(10, 10), diagonal='kde');"
   ]
  },
  {
   "cell_type": "markdown",
   "metadata": {
    "id": "OPcqDvXPRJ39"
   },
   "source": [
    "### Plotting Categorical Variables"
   ]
  },
  {
   "cell_type": "code",
   "execution_count": null,
   "metadata": {
    "colab": {
     "base_uri": "https://localhost:8080/",
     "height": 320
    },
    "id": "7IHhB3wHRNJt",
    "outputId": "74d813a0-3eff-40e7-fc9b-8524c545645e"
   },
   "outputs": [],
   "source": [
    "titanic = sns.load_dataset('titanic')\n",
    "f, ax = plt.subplots(figsize=(7, 3));\n",
    "ax = sns.countplot(y=\"deck\", data=titanic, color=\"r\");\n",
    "ax.set_title('Titanic');"
   ]
  },
  {
   "cell_type": "code",
   "execution_count": null,
   "metadata": {
    "colab": {
     "base_uri": "https://localhost:8080/",
     "height": 458
    },
    "id": "iL0QQrUmRVk0",
    "outputId": "d9b51f1d-a576-4c83-d688-6b5699bf18ec"
   },
   "outputs": [],
   "source": [
    "ax = sns.countplot(x=\"class\", data=titanic)\n",
    "ax.set_title('Titanic');"
   ]
  },
  {
   "cell_type": "code",
   "execution_count": null,
   "metadata": {
    "colab": {
     "base_uri": "https://localhost:8080/",
     "height": 535
    },
    "id": "XraTk6z7Rf-s",
    "outputId": "84105f00-3a61-4897-eb42-a4ee0de4732f"
   },
   "outputs": [],
   "source": [
    "fig, ax = plt.subplots(figsize=(10,6)) # Create figure object\n",
    "sns.set_context(\"notebook\", font_scale=1, rc={\"lines.linewidth\": 2.5})\n",
    "ax = sns.countplot(x=\"deck\", data=titanic)"
   ]
  },
  {
   "cell_type": "code",
   "execution_count": null,
   "metadata": {
    "colab": {
     "base_uri": "https://localhost:8080/",
     "height": 500
    },
    "id": "ukr7QmPQRqSL",
    "outputId": "26965a52-9b9f-47f4-ec65-b0be89f9416d"
   },
   "outputs": [],
   "source": [
    "sns.set(style=\"ticks\", palette=\"muted\")\n",
    "sns.relplot(x=\"age\", y=\"deck\", col=\"class\", data=titanic);"
   ]
  },
  {
   "cell_type": "code",
   "execution_count": null,
   "metadata": {
    "colab": {
     "base_uri": "https://localhost:8080/",
     "height": 1000
    },
    "id": "b3DbECPCRvUF",
    "outputId": "c47b98dc-0776-44a5-8f04-07f81fecaaa0"
   },
   "outputs": [],
   "source": [
    "sns.set_context(\"notebook\", font_scale=1.5, rc={\"lines.linewidth\": 2.5})\n",
    "sns.pairplot(data=titanic, hue=\"deck\");"
   ]
  },
  {
   "cell_type": "markdown",
   "metadata": {
    "id": "8JAQSrvxVZ3q"
   },
   "source": [
    "# Introduction to Plotly\n",
    "**Plotly** is a powerful and versatile data visualization library that is designed for creating interactive plots. Unlike Matplotlib and Seaborn, which focus on static plots, Plotly offers interactivity by default, allowing users to zoom, hover, and pan across the plots. This makes it an excellent choice for dynamic visualizations that require user engagement or need to be embedded in dashboards or web applications.\n",
    "\n",
    "Plotly supports a wide range of plot types, including 3D visualizations, geographic maps, and other highly interactive charts. It is particularly popular for web-based applications where interactive data exploration is essential. The library works seamlessly with the popular plotly.express module, which simplifies creating many common plot types with minimal code."
   ]
  },
  {
   "cell_type": "markdown",
   "metadata": {
    "id": "RkV94IrhVjcK"
   },
   "source": [
    "# Key Features of Plotly:\n",
    "Interactivity: Plotly automatically adds interactive features to all visualizations, such as hover tooltips, zooming, panning, and clicking. This is one of the main strengths of Plotly, making it ideal for exploratory data analysis and dashboards.\n",
    "\n",
    "Wide Range of Plot Types: In addition to traditional plots like bar charts, line charts, and scatter plots, Plotly also supports more advanced visualizations such as 3D plots, choropleth maps, and contour plots.\n",
    "\n",
    "Web-based Integration: Plotly visualizations can easily be integrated into web applications. You can save Plotly graphs as HTML files or use them in interactive dashboards with frameworks like Dash, Jupyter Notebooks, or Streamlit.\n",
    "\n",
    "Customization: While Plotly provides interactivity by default, it also offers extensive customization options, allowing users to control plot aesthetics, themes, and layouts with high precision."
   ]
  },
  {
   "cell_type": "code",
   "execution_count": null,
   "metadata": {
    "colab": {
     "base_uri": "https://localhost:8080/",
     "height": 542
    },
    "id": "TXWBS9PQFXWx",
    "outputId": "6b90acbd-239c-4d5e-d443-f069c3302358"
   },
   "outputs": [],
   "source": [
    "# Plotly Example\n",
    "# Create an interactive scatter plot using Plotly Express\n",
    "fig = px.scatter(data, x='x', y='y', color='category', title='Plotly Example',\n",
    "                 labels={'x': 'X', 'y': 'Y'}, template='plotly_dark')\n",
    "# Customize marker size\n",
    "fig.update_traces(marker=dict(size=12))\n",
    "# Show the interactive plot\n",
    "fig.show()"
   ]
  },
  {
   "cell_type": "markdown",
   "metadata": {
    "id": "BZgRze-uV1S6"
   },
   "source": [
    "In this example, we use plotly.express.scatter() to create an interactive scatter plot. The color='category' argument automatically assigns different colors to the points based on the 'category' column. The plot is fully interactive, allowing users to zoom in and out and hover over points to get detailed information.\n",
    "\n",
    "Plotly provides various themes that can be applied to plots with a single line of code. In this case, template='plotly_dark' applies a dark theme to the plot. This flexibility makes it easy to switch between visual styles without writing complex styling code.\n",
    "\n",
    "We use fig.update_traces() to customize the size of the scatter plot markers, demonstrating how easy it is to modify the appearance of a Plotly plot with minimal effort.\n",
    "\n",
    "The plot automatically includes features like hover tooltips (which show the exact coordinates and category), zoom, and pan capabilities, without any additional setup."
   ]
  },
  {
   "cell_type": "markdown",
   "metadata": {
    "id": "_wF7EnAIWZQ6"
   },
   "source": [
    "Let’s explore creating a pie chart with Plotly. Suppose you have a dataset containing the sales percentages of different product categories. Use the following code:"
   ]
  },
  {
   "cell_type": "code",
   "execution_count": null,
   "metadata": {
    "colab": {
     "base_uri": "https://localhost:8080/",
     "height": 542
    },
    "id": "Cr4oQUOMV8eA",
    "outputId": "352796e9-abd0-4d4e-9c46-570d9ad9f9c3"
   },
   "outputs": [],
   "source": [
    "# Create data\n",
    "categories = ['Food', 'Rent', 'Transportation']\n",
    "expenses = [500, 800, 300]\n",
    "\n",
    "# Create a Pie Chart\n",
    "fig = px.pie(names=categories, values=expenses, title=\"Pie Chart\")\n",
    "\n",
    "# Display the chart\n",
    "fig.show()"
   ]
  },
  {
   "cell_type": "markdown",
   "metadata": {
    "id": "17nom5urWfLS"
   },
   "source": [
    "This code snippet utilizes the px.pie function from Plotly Express to create a Pie Chart. By specifying the names of the categories and their corresponding values, you can easily visualize the expense distribution. Calling fig.show() displays the Pie Chart in the output."
   ]
  },
  {
   "cell_type": "markdown",
   "metadata": {
    "id": "NMNlZBBRW2Xz"
   },
   "source": [
    "Now, let’s explore creating a **Choropleth Map** (explore more here: https://plotly.com/python/choropleth-maps/) using Plotly Express. Suppose you have a dataset with information about the urban population density of different countries in Europe. Use the following code:"
   ]
  },
  {
   "cell_type": "code",
   "execution_count": null,
   "metadata": {
    "colab": {
     "base_uri": "https://localhost:8080/",
     "height": 542
    },
    "id": "8lyS5GiTWJsg",
    "outputId": "b6e4743a-aec0-4a70-e4e5-8e127d8ee486"
   },
   "outputs": [],
   "source": [
    "# Load the dataset\n",
    "data = px.data.gapminder().query(\"continent == 'Europe'\")\n",
    "\n",
    "# Create a Choropleth Map\n",
    "fig = px.choropleth(data_frame=data,\n",
    "                    locations='iso_alpha',\n",
    "                    color='pop',\n",
    "                    hover_name='country',\n",
    "                    title='Urban Population in Europe',\n",
    "                    color_continuous_scale='blues',\n",
    "                    hover_data={'pop': True,  # Include 'pop' in hover data\n",
    "                                'iso_alpha': False, #Exclude 'iso_alpha from hover data\n",
    "                                'country': False},  # Exclude 'country' from hover data (it's already in hover_name)\n",
    ")\n",
    "\n",
    "# Set the map layout\n",
    "fig.update_geos(\n",
    "    visible=False,\n",
    "    resolution=50,\n",
    "    showcountries=True,\n",
    "    countrycolor=\"gray\",\n",
    "    showcoastlines=True,\n",
    "    coastlinecolor=\"white\",\n",
    "    projection_type=\"natural earth\",\n",
    "    lataxis_range=[35, 75],\n",
    "    lonaxis_range=[-25, 50]\n",
    ")\n",
    "\n",
    "#Format the population so it's easier to read\n",
    "fig.update_traces(hovertemplate=\"<b>%{hovertext}</b><br>Population: %{customdata[0]:,}<extra></extra>\")\n",
    "\n",
    "# Display the map\n",
    "fig.show()"
   ]
  },
  {
   "cell_type": "markdown",
   "metadata": {
    "id": "80sDWHOSXfHa"
   },
   "source": [
    "This code snippet utilizes the px.choropleth function from Plotly Express to create a Choropleth Map. By providing the dataset, the column names for locations and colors, and specifying the location mode, you can easily visualize the population density of different countries. Calling fig.show() displays the Choropleth Map in the output.\n",
    "\n",
    "We heavily encourage you to explore it here: https://plotly.com/python/choropleth-maps/"
   ]
  },
  {
   "cell_type": "markdown",
   "metadata": {
    "id": "XEDspxVqXyLy"
   },
   "source": [
    "Now, let’s explore creating a **Scatter Matrix** using Plotly Express. Suppose you have a dataset with information about Country GDP, Country Population, Country Vehicles fleet, for some countries in Europe. Use the following code:"
   ]
  },
  {
   "cell_type": "code",
   "execution_count": null,
   "metadata": {
    "colab": {
     "base_uri": "https://localhost:8080/",
     "height": 542
    },
    "id": "FihFmOvhXGmp",
    "outputId": "dc17e5eb-8be3-4ec0-e2e0-fe6da31e9ce2"
   },
   "outputs": [],
   "source": [
    "# Create a sample dataframe\n",
    "data = {\n",
    "    \"Country\": [\"Germany\", \"France\", \"Italy\", \"Spain\", \"United Kingdom\"],\n",
    "    \"GDP\": [3.8, 2.7, 1.9, 1.4, 2.1],\n",
    "    \"Population\": [83, 67, 60, 47, 66],\n",
    "    \"Vehicles Fleet\": [50, 35, 40, 30, 45]\n",
    "}\n",
    "\n",
    "df = pd.DataFrame(data)\n",
    "\n",
    "# Create a scatter matrix\n",
    "fig = px.scatter_matrix(df,\n",
    "                        dimensions=[\"GDP\", \"Population\", \"Vehicles Fleet\"],\n",
    "                        color=\"Country\",\n",
    "                        title=\"Scatter Matrix: Country GDP, Population, and Vehicles Fleet in Europe\")\n",
    "\n",
    "# Display the scatter matrix\n",
    "fig.show()"
   ]
  },
  {
   "cell_type": "code",
   "execution_count": null,
   "metadata": {
    "colab": {
     "base_uri": "https://localhost:8080/",
     "height": 542
    },
    "id": "lSK6FFkjX6iR",
    "outputId": "6d138c8b-ad2f-4364-eff1-39befc21e216"
   },
   "outputs": [],
   "source": [
    "# Scatter plots with Iris Data\n",
    "df = px.data.iris()\n",
    "fig = px.scatter(df, x=\"sepal_width\", y=\"sepal_length\", color=\"species\")\n",
    "fig.show()"
   ]
  },
  {
   "cell_type": "markdown",
   "metadata": {
    "id": "R5XgDwqzauEP"
   },
   "source": [
    "The following Plotly example demonstrates how you can create an interactive scatter plot enriched with marginal plots and a trendline to enhance the analysis of relationships between variables:"
   ]
  },
  {
   "cell_type": "code",
   "execution_count": null,
   "metadata": {
    "colab": {
     "base_uri": "https://localhost:8080/",
     "height": 542
    },
    "id": "jO9Eu253aFRH",
    "outputId": "3122d416-9e1d-420c-83b4-2295950151fa"
   },
   "outputs": [],
   "source": [
    "# Load the Iris dataset from Plotly's built-in data\n",
    "df = px.data.iris()\n",
    "\n",
    "# Create an interactive scatter plot with Plotly Express\n",
    "fig = px.scatter(df,\n",
    "                 x=\"sepal_width\",  # X-axis is the sepal width\n",
    "                 y=\"sepal_length\",  # Y-axis is the sepal length\n",
    "                 color=\"species\",  # Different colors for each species\n",
    "                 marginal_y=\"violin\",  # Add a violin plot to the Y-axis marginal\n",
    "                 marginal_x=\"box\",  # Add a box plot to the X-axis marginal\n",
    "                 trendline=\"ols\",  # Add a trendline using Ordinary Least Squares (OLS) regression\n",
    "                 template=\"simple_white\")  # Use a simple white background theme\n",
    "\n",
    "# Show the interactive plot\n",
    "fig.show()"
   ]
  },
  {
   "cell_type": "markdown",
   "metadata": {
    "id": "R9KQDp9WbpEn"
   },
   "source": [
    "The choice of trendline depends on the nature of your data and the kind of relationship you want to model. Linear trendlines work well for simple, direct relationships, while Lowess and polynomial trendlines are better suited for non-linear data. Exponential trendlines are great for modeling growth or decay processes."
   ]
  },
  {
   "cell_type": "code",
   "execution_count": null,
   "metadata": {
    "colab": {
     "base_uri": "https://localhost:8080/",
     "height": 542
    },
    "id": "fKY9QqbMaU5G",
    "outputId": "43145227-f912-4023-a37d-cbb6fe11a697"
   },
   "outputs": [],
   "source": [
    "fig = px.scatter(df, x=\"sepal_width\", y=\"sepal_length\", color=\"species\", trendline=\"lowess\")\n",
    "fig.show()"
   ]
  },
  {
   "cell_type": "markdown",
   "metadata": {
    "id": "zmxqf-c_cQdh"
   },
   "source": [
    "**Parallel Coordinates** is a powerful visualization technique used to explore high-dimensional datasets. In this type of plot, each axis represents a variable (or feature), and individual data points are displayed as lines that pass through these axes. It is particularly useful for comparing multiple variables across different categories or classes.\n",
    "\n",
    "In this example, we will use the Iris dataset to create a parallel coordinates plot, which allows us to visually compare the sepal and petal measurements across the three species of iris flowers: Setosa, Versicolor, and Virginica."
   ]
  },
  {
   "cell_type": "code",
   "execution_count": null,
   "metadata": {
    "colab": {
     "base_uri": "https://localhost:8080/",
     "height": 542
    },
    "id": "HQlXyiiMbJzP",
    "outputId": "d81815f7-52bb-4a5d-dc63-656e0583880b"
   },
   "outputs": [],
   "source": [
    "# Load the Iris dataset from Plotly's built-in data\n",
    "df = px.data.iris()\n",
    "\n",
    "# Create a parallel coordinates plot\n",
    "fig = px.parallel_coordinates(df,\n",
    "                              color=\"species_id\",  # Use species_id to differentiate species by color\n",
    "                              labels={             # Custom labels for each axis\n",
    "                                  \"species_id\": \"Species\",\n",
    "                                  \"sepal_width\": \"Sepal Width\",\n",
    "                                  \"sepal_length\": \"Sepal Length\",\n",
    "                                  \"petal_width\": \"Petal Width\",\n",
    "                                  \"petal_length\": \"Petal Length\",\n",
    "                              },\n",
    "                              color_continuous_scale=px.colors.diverging.Tealrose,  # Color scale\n",
    "                              color_continuous_midpoint=2)  # Midpoint for the color scale\n",
    "# Show the plot\n",
    "fig.show()"
   ]
  },
  {
   "cell_type": "markdown",
   "metadata": {
    "id": "8QtKaY_FeX8A"
   },
   "source": [
    "# Complete with reasoning\n",
    "\n",
    "Please find the pyhton file at: https://drive.google.com/file/d/1JfWTY2fTXn4Z5yVDxd13DKWJEQuPGdu2/view?usp=drive_link\n",
    "\n",
    "Explore the plots and give proper reasoning for the plots."
   ]
  }
 ],
 "metadata": {
  "colab": {
   "provenance": []
  },
  "kernelspec": {
   "display_name": "Python 3 (ipykernel)",
   "language": "python",
   "name": "python3"
  },
  "language_info": {
   "codemirror_mode": {
    "name": "ipython",
    "version": 3
   },
   "file_extension": ".py",
   "mimetype": "text/x-python",
   "name": "python",
   "nbconvert_exporter": "python",
   "pygments_lexer": "ipython3",
   "version": "3.12.4"
  }
 },
 "nbformat": 4,
 "nbformat_minor": 4
}
